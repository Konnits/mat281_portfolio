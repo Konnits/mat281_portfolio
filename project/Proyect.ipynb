{
 "cells": [
  {
   "cell_type": "code",
   "execution_count": 2,
   "metadata": {},
   "outputs": [],
   "source": [
    "import os\n",
    "import pandas as pd\n",
    "import numpy as np\n",
    "import altair as alt\n",
    "import seaborn as sb\n",
    "import matplotlib.pyplot as plt\n",
    "from ipynb.fs.full.MyFuntions import *\n",
    "alt.data_transformers.disable_max_rows()\n",
    "\n",
    "from sklearn.neighbors import KNeighborsClassifier\n",
    "from sklearn.compose import make_column_transformer\n",
    "from sklearn.preprocessing import OneHotEncoder\n",
    "from sklearn.ensemble import RandomForestClassifier\n",
    "from sklearn.model_selection import train_test_split\n",
    "from sklearn import svm\n",
    "from sklearn.neural_network import MLPClassifier\n",
    "from sklearn.model_selection import GridSearchCV\n",
    "from sklearn.preprocessing import StandardScaler\n",
    "from sklearn.experimental import enable_hist_gradient_boosting\n",
    "from sklearn.ensemble import HistGradientBoostingClassifier"
   ]
  },
  {
   "cell_type": "markdown",
   "metadata": {},
   "source": [
    "# Earthquake Damage\n",
    "Integrantes\n",
    "<ul>\n",
    "    <li>Carlos Guerra<\\li>\n",
    "    <li>Nicolás Muñoz<\\li>\n",
    "    <li>Gerald Méndez<\\li>\n",
    "<\\ul>"
   ]
  },
  {
   "cell_type": "markdown",
   "metadata": {},
   "source": [
    "![](https://static01.nyt.com/images/2015/05/06/world/asia/20150507-NEPAL-slide-W9W4/20150507-NEPAL-slide-W9W4-master675.jpg)"
   ]
  },
  {
   "cell_type": "markdown",
   "metadata": {},
   "source": [
    "Los terremotos han sido desde hace mucho tiempo un fenómeno imposible de predecir, de modo que lo que podemos hacer es prepararnos adecuadamente para enferentarlos con la menor cantidad de heridos.\n",
    "\n",
    "Es por ello que utilizaremos la data [Earthquake Damage](https://www.kaggle.com/mullerismail/richters-predictor-modeling-earthquake-damage?select=train_values.csv) para generar un modelo que prediga el daño que recibiría una construcción ante un evento telúrico de magnitudes similares a las de Nepal en 2015 (7.8 Richter).\n",
    "\n",
    "Para así poder adelantarse a ello, mejorar o bien derribar, las construcciones que sean necesarias."
   ]
  },
  {
   "cell_type": "markdown",
   "metadata": {},
   "source": [
    "![](https://cdn.britannica.com/90/182390-050-00B7AB0F/earthquake-Map-Nepal-region-temblor-thousands-people-April-25-2015.jpg)"
   ]
  },
  {
   "cell_type": "markdown",
   "metadata": {},
   "source": [
    "### Valores objetivo\n",
    "\n",
    "| Tipo 1 | Tipo 2 | Tipo 3 |\n",
    "|---|---|---|\n",
    "| ![](https://ep00.epimg.net/elpais/imagenes/2015/04/27/album/1430134879_926643_1430135569_album_normal.jpg) | ![](https://www.jordicorominas.es/media/zoo/applications/abacImages/assets/php/aigua.php?src=https://www.jordicorominas.es/images/galerias/2015-terremoto-nepal/Terremoto%20Nepal%202015%20-%2010.JPG) | ![](https://www.desnivel.com/images/2015/05/nepal-22.jpg) |"
   ]
  },
  {
   "cell_type": "markdown",
   "metadata": {},
   "source": [
    "## Modelo de Clasificación"
   ]
  },
  {
   "cell_type": "markdown",
   "metadata": {},
   "source": [
    "![](https://pbs.twimg.com/media/DPIfUygXcAEDyQE.png)"
   ]
  },
  {
   "cell_type": "markdown",
   "metadata": {},
   "source": [
    "# Dataset"
   ]
  },
  {
   "cell_type": "code",
   "execution_count": 3,
   "metadata": {},
   "outputs": [
    {
     "data": {
      "text/html": [
       "<div>\n",
       "<style scoped>\n",
       "    .dataframe tbody tr th:only-of-type {\n",
       "        vertical-align: middle;\n",
       "    }\n",
       "\n",
       "    .dataframe tbody tr th {\n",
       "        vertical-align: top;\n",
       "    }\n",
       "\n",
       "    .dataframe thead th {\n",
       "        text-align: right;\n",
       "    }\n",
       "</style>\n",
       "<table border=\"1\" class=\"dataframe\">\n",
       "  <thead>\n",
       "    <tr style=\"text-align: right;\">\n",
       "      <th></th>\n",
       "      <th>building_id</th>\n",
       "      <th>geo_level_1_id</th>\n",
       "      <th>geo_level_2_id</th>\n",
       "      <th>geo_level_3_id</th>\n",
       "      <th>count_floors_pre_eq</th>\n",
       "      <th>age</th>\n",
       "      <th>area_percentage</th>\n",
       "      <th>height_percentage</th>\n",
       "      <th>land_surface_condition</th>\n",
       "      <th>foundation_type</th>\n",
       "      <th>...</th>\n",
       "      <th>has_secondary_use_agriculture</th>\n",
       "      <th>has_secondary_use_hotel</th>\n",
       "      <th>has_secondary_use_rental</th>\n",
       "      <th>has_secondary_use_institution</th>\n",
       "      <th>has_secondary_use_school</th>\n",
       "      <th>has_secondary_use_industry</th>\n",
       "      <th>has_secondary_use_health_post</th>\n",
       "      <th>has_secondary_use_gov_office</th>\n",
       "      <th>has_secondary_use_use_police</th>\n",
       "      <th>has_secondary_use_other</th>\n",
       "    </tr>\n",
       "  </thead>\n",
       "  <tbody>\n",
       "    <tr>\n",
       "      <th>0</th>\n",
       "      <td>802906</td>\n",
       "      <td>6</td>\n",
       "      <td>487</td>\n",
       "      <td>12198</td>\n",
       "      <td>2</td>\n",
       "      <td>30</td>\n",
       "      <td>6</td>\n",
       "      <td>5</td>\n",
       "      <td>t</td>\n",
       "      <td>r</td>\n",
       "      <td>...</td>\n",
       "      <td>0</td>\n",
       "      <td>0</td>\n",
       "      <td>0</td>\n",
       "      <td>0</td>\n",
       "      <td>0</td>\n",
       "      <td>0</td>\n",
       "      <td>0</td>\n",
       "      <td>0</td>\n",
       "      <td>0</td>\n",
       "      <td>0</td>\n",
       "    </tr>\n",
       "    <tr>\n",
       "      <th>1</th>\n",
       "      <td>28830</td>\n",
       "      <td>8</td>\n",
       "      <td>900</td>\n",
       "      <td>2812</td>\n",
       "      <td>2</td>\n",
       "      <td>10</td>\n",
       "      <td>8</td>\n",
       "      <td>7</td>\n",
       "      <td>o</td>\n",
       "      <td>r</td>\n",
       "      <td>...</td>\n",
       "      <td>0</td>\n",
       "      <td>0</td>\n",
       "      <td>0</td>\n",
       "      <td>0</td>\n",
       "      <td>0</td>\n",
       "      <td>0</td>\n",
       "      <td>0</td>\n",
       "      <td>0</td>\n",
       "      <td>0</td>\n",
       "      <td>0</td>\n",
       "    </tr>\n",
       "    <tr>\n",
       "      <th>2</th>\n",
       "      <td>94947</td>\n",
       "      <td>21</td>\n",
       "      <td>363</td>\n",
       "      <td>8973</td>\n",
       "      <td>2</td>\n",
       "      <td>10</td>\n",
       "      <td>5</td>\n",
       "      <td>5</td>\n",
       "      <td>t</td>\n",
       "      <td>r</td>\n",
       "      <td>...</td>\n",
       "      <td>0</td>\n",
       "      <td>0</td>\n",
       "      <td>0</td>\n",
       "      <td>0</td>\n",
       "      <td>0</td>\n",
       "      <td>0</td>\n",
       "      <td>0</td>\n",
       "      <td>0</td>\n",
       "      <td>0</td>\n",
       "      <td>0</td>\n",
       "    </tr>\n",
       "    <tr>\n",
       "      <th>3</th>\n",
       "      <td>590882</td>\n",
       "      <td>22</td>\n",
       "      <td>418</td>\n",
       "      <td>10694</td>\n",
       "      <td>2</td>\n",
       "      <td>10</td>\n",
       "      <td>6</td>\n",
       "      <td>5</td>\n",
       "      <td>t</td>\n",
       "      <td>r</td>\n",
       "      <td>...</td>\n",
       "      <td>0</td>\n",
       "      <td>0</td>\n",
       "      <td>0</td>\n",
       "      <td>0</td>\n",
       "      <td>0</td>\n",
       "      <td>0</td>\n",
       "      <td>0</td>\n",
       "      <td>0</td>\n",
       "      <td>0</td>\n",
       "      <td>0</td>\n",
       "    </tr>\n",
       "    <tr>\n",
       "      <th>4</th>\n",
       "      <td>201944</td>\n",
       "      <td>11</td>\n",
       "      <td>131</td>\n",
       "      <td>1488</td>\n",
       "      <td>3</td>\n",
       "      <td>30</td>\n",
       "      <td>8</td>\n",
       "      <td>9</td>\n",
       "      <td>t</td>\n",
       "      <td>r</td>\n",
       "      <td>...</td>\n",
       "      <td>0</td>\n",
       "      <td>0</td>\n",
       "      <td>0</td>\n",
       "      <td>0</td>\n",
       "      <td>0</td>\n",
       "      <td>0</td>\n",
       "      <td>0</td>\n",
       "      <td>0</td>\n",
       "      <td>0</td>\n",
       "      <td>0</td>\n",
       "    </tr>\n",
       "  </tbody>\n",
       "</table>\n",
       "<p>5 rows × 39 columns</p>\n",
       "</div>"
      ],
      "text/plain": [
       "   building_id  geo_level_1_id  geo_level_2_id  geo_level_3_id  \\\n",
       "0       802906               6             487           12198   \n",
       "1        28830               8             900            2812   \n",
       "2        94947              21             363            8973   \n",
       "3       590882              22             418           10694   \n",
       "4       201944              11             131            1488   \n",
       "\n",
       "   count_floors_pre_eq  age  area_percentage  height_percentage  \\\n",
       "0                    2   30                6                  5   \n",
       "1                    2   10                8                  7   \n",
       "2                    2   10                5                  5   \n",
       "3                    2   10                6                  5   \n",
       "4                    3   30                8                  9   \n",
       "\n",
       "  land_surface_condition foundation_type  ... has_secondary_use_agriculture  \\\n",
       "0                      t               r  ...                             0   \n",
       "1                      o               r  ...                             0   \n",
       "2                      t               r  ...                             0   \n",
       "3                      t               r  ...                             0   \n",
       "4                      t               r  ...                             0   \n",
       "\n",
       "  has_secondary_use_hotel has_secondary_use_rental  \\\n",
       "0                       0                        0   \n",
       "1                       0                        0   \n",
       "2                       0                        0   \n",
       "3                       0                        0   \n",
       "4                       0                        0   \n",
       "\n",
       "  has_secondary_use_institution has_secondary_use_school  \\\n",
       "0                             0                        0   \n",
       "1                             0                        0   \n",
       "2                             0                        0   \n",
       "3                             0                        0   \n",
       "4                             0                        0   \n",
       "\n",
       "   has_secondary_use_industry  has_secondary_use_health_post  \\\n",
       "0                           0                              0   \n",
       "1                           0                              0   \n",
       "2                           0                              0   \n",
       "3                           0                              0   \n",
       "4                           0                              0   \n",
       "\n",
       "   has_secondary_use_gov_office  has_secondary_use_use_police  \\\n",
       "0                             0                             0   \n",
       "1                             0                             0   \n",
       "2                             0                             0   \n",
       "3                             0                             0   \n",
       "4                             0                             0   \n",
       "\n",
       "   has_secondary_use_other  \n",
       "0                        0  \n",
       "1                        0  \n",
       "2                        0  \n",
       "3                        0  \n",
       "4                        0  \n",
       "\n",
       "[5 rows x 39 columns]"
      ]
     },
     "execution_count": 3,
     "metadata": {},
     "output_type": "execute_result"
    }
   ],
   "source": [
    "y_test = pd.read_csv(os.path.join(\"..\", \"data\", \"submission_format.csv\"))\n",
    "X_test = pd.read_csv(os.path.join(\"..\", \"data\", \"test_values.csv\"))\n",
    "y_train = pd.read_csv(os.path.join(\"..\", \"data\", \"train_labels.csv\"))\n",
    "X_train = pd.read_csv(os.path.join(\"..\", \"data\", \"train_values.csv\"))\n",
    "X_train.head()"
   ]
  },
  {
   "cell_type": "markdown",
   "metadata": {},
   "source": [
    "#### Una Dataset de 260.601 datos y 38 columnas de información"
   ]
  },
  {
   "cell_type": "code",
   "execution_count": 3,
   "metadata": {},
   "outputs": [
    {
     "name": "stdout",
     "output_type": "stream",
     "text": [
      "<class 'pandas.core.frame.DataFrame'>\n",
      "RangeIndex: 260601 entries, 0 to 260600\n",
      "Data columns (total 39 columns):\n",
      " #   Column                                  Non-Null Count   Dtype \n",
      "---  ------                                  --------------   ----- \n",
      " 0   building_id                             260601 non-null  int64 \n",
      " 1   geo_level_1_id                          260601 non-null  int64 \n",
      " 2   geo_level_2_id                          260601 non-null  int64 \n",
      " 3   geo_level_3_id                          260601 non-null  int64 \n",
      " 4   count_floors_pre_eq                     260601 non-null  int64 \n",
      " 5   age                                     260601 non-null  int64 \n",
      " 6   area_percentage                         260601 non-null  int64 \n",
      " 7   height_percentage                       260601 non-null  int64 \n",
      " 8   land_surface_condition                  260601 non-null  object\n",
      " 9   foundation_type                         260601 non-null  object\n",
      " 10  roof_type                               260601 non-null  object\n",
      " 11  ground_floor_type                       260601 non-null  object\n",
      " 12  other_floor_type                        260601 non-null  object\n",
      " 13  position                                260601 non-null  object\n",
      " 14  plan_configuration                      260601 non-null  object\n",
      " 15  has_superstructure_adobe_mud            260601 non-null  int64 \n",
      " 16  has_superstructure_mud_mortar_stone     260601 non-null  int64 \n",
      " 17  has_superstructure_stone_flag           260601 non-null  int64 \n",
      " 18  has_superstructure_cement_mortar_stone  260601 non-null  int64 \n",
      " 19  has_superstructure_mud_mortar_brick     260601 non-null  int64 \n",
      " 20  has_superstructure_cement_mortar_brick  260601 non-null  int64 \n",
      " 21  has_superstructure_timber               260601 non-null  int64 \n",
      " 22  has_superstructure_bamboo               260601 non-null  int64 \n",
      " 23  has_superstructure_rc_non_engineered    260601 non-null  int64 \n",
      " 24  has_superstructure_rc_engineered        260601 non-null  int64 \n",
      " 25  has_superstructure_other                260601 non-null  int64 \n",
      " 26  legal_ownership_status                  260601 non-null  object\n",
      " 27  count_families                          260601 non-null  int64 \n",
      " 28  has_secondary_use                       260601 non-null  int64 \n",
      " 29  has_secondary_use_agriculture           260601 non-null  int64 \n",
      " 30  has_secondary_use_hotel                 260601 non-null  int64 \n",
      " 31  has_secondary_use_rental                260601 non-null  int64 \n",
      " 32  has_secondary_use_institution           260601 non-null  int64 \n",
      " 33  has_secondary_use_school                260601 non-null  int64 \n",
      " 34  has_secondary_use_industry              260601 non-null  int64 \n",
      " 35  has_secondary_use_health_post           260601 non-null  int64 \n",
      " 36  has_secondary_use_gov_office            260601 non-null  int64 \n",
      " 37  has_secondary_use_use_police            260601 non-null  int64 \n",
      " 38  has_secondary_use_other                 260601 non-null  int64 \n",
      "dtypes: int64(31), object(8)\n",
      "memory usage: 77.5+ MB\n"
     ]
    }
   ],
   "source": [
    "X_train.info()"
   ]
  },
  {
   "cell_type": "code",
   "execution_count": 4,
   "metadata": {},
   "outputs": [
    {
     "data": {
      "text/html": [
       "<div>\n",
       "<style scoped>\n",
       "    .dataframe tbody tr th:only-of-type {\n",
       "        vertical-align: middle;\n",
       "    }\n",
       "\n",
       "    .dataframe tbody tr th {\n",
       "        vertical-align: top;\n",
       "    }\n",
       "\n",
       "    .dataframe thead th {\n",
       "        text-align: right;\n",
       "    }\n",
       "</style>\n",
       "<table border=\"1\" class=\"dataframe\">\n",
       "  <thead>\n",
       "    <tr style=\"text-align: right;\">\n",
       "      <th></th>\n",
       "      <th>count</th>\n",
       "      <th>mean</th>\n",
       "      <th>std</th>\n",
       "      <th>min</th>\n",
       "      <th>25%</th>\n",
       "      <th>50%</th>\n",
       "      <th>75%</th>\n",
       "      <th>max</th>\n",
       "    </tr>\n",
       "  </thead>\n",
       "  <tbody>\n",
       "    <tr>\n",
       "      <th>building_id</th>\n",
       "      <td>260601.0</td>\n",
       "      <td>525675.482773</td>\n",
       "      <td>304544.999032</td>\n",
       "      <td>4.0</td>\n",
       "      <td>261190.0</td>\n",
       "      <td>525757.0</td>\n",
       "      <td>789762.0</td>\n",
       "      <td>1052934.0</td>\n",
       "    </tr>\n",
       "    <tr>\n",
       "      <th>geo_level_1_id</th>\n",
       "      <td>260601.0</td>\n",
       "      <td>13.900353</td>\n",
       "      <td>8.033617</td>\n",
       "      <td>0.0</td>\n",
       "      <td>7.0</td>\n",
       "      <td>12.0</td>\n",
       "      <td>21.0</td>\n",
       "      <td>30.0</td>\n",
       "    </tr>\n",
       "    <tr>\n",
       "      <th>geo_level_2_id</th>\n",
       "      <td>260601.0</td>\n",
       "      <td>701.074685</td>\n",
       "      <td>412.710734</td>\n",
       "      <td>0.0</td>\n",
       "      <td>350.0</td>\n",
       "      <td>702.0</td>\n",
       "      <td>1050.0</td>\n",
       "      <td>1427.0</td>\n",
       "    </tr>\n",
       "    <tr>\n",
       "      <th>geo_level_3_id</th>\n",
       "      <td>260601.0</td>\n",
       "      <td>6257.876148</td>\n",
       "      <td>3646.369645</td>\n",
       "      <td>0.0</td>\n",
       "      <td>3073.0</td>\n",
       "      <td>6270.0</td>\n",
       "      <td>9412.0</td>\n",
       "      <td>12567.0</td>\n",
       "    </tr>\n",
       "    <tr>\n",
       "      <th>count_floors_pre_eq</th>\n",
       "      <td>260601.0</td>\n",
       "      <td>2.129723</td>\n",
       "      <td>0.727665</td>\n",
       "      <td>1.0</td>\n",
       "      <td>2.0</td>\n",
       "      <td>2.0</td>\n",
       "      <td>2.0</td>\n",
       "      <td>9.0</td>\n",
       "    </tr>\n",
       "    <tr>\n",
       "      <th>age</th>\n",
       "      <td>260601.0</td>\n",
       "      <td>26.535029</td>\n",
       "      <td>73.565937</td>\n",
       "      <td>0.0</td>\n",
       "      <td>10.0</td>\n",
       "      <td>15.0</td>\n",
       "      <td>30.0</td>\n",
       "      <td>995.0</td>\n",
       "    </tr>\n",
       "    <tr>\n",
       "      <th>area_percentage</th>\n",
       "      <td>260601.0</td>\n",
       "      <td>8.018051</td>\n",
       "      <td>4.392231</td>\n",
       "      <td>1.0</td>\n",
       "      <td>5.0</td>\n",
       "      <td>7.0</td>\n",
       "      <td>9.0</td>\n",
       "      <td>100.0</td>\n",
       "    </tr>\n",
       "    <tr>\n",
       "      <th>height_percentage</th>\n",
       "      <td>260601.0</td>\n",
       "      <td>5.434365</td>\n",
       "      <td>1.918418</td>\n",
       "      <td>2.0</td>\n",
       "      <td>4.0</td>\n",
       "      <td>5.0</td>\n",
       "      <td>6.0</td>\n",
       "      <td>32.0</td>\n",
       "    </tr>\n",
       "    <tr>\n",
       "      <th>has_superstructure_adobe_mud</th>\n",
       "      <td>260601.0</td>\n",
       "      <td>0.088645</td>\n",
       "      <td>0.284231</td>\n",
       "      <td>0.0</td>\n",
       "      <td>0.0</td>\n",
       "      <td>0.0</td>\n",
       "      <td>0.0</td>\n",
       "      <td>1.0</td>\n",
       "    </tr>\n",
       "    <tr>\n",
       "      <th>has_superstructure_mud_mortar_stone</th>\n",
       "      <td>260601.0</td>\n",
       "      <td>0.761935</td>\n",
       "      <td>0.425900</td>\n",
       "      <td>0.0</td>\n",
       "      <td>1.0</td>\n",
       "      <td>1.0</td>\n",
       "      <td>1.0</td>\n",
       "      <td>1.0</td>\n",
       "    </tr>\n",
       "    <tr>\n",
       "      <th>has_superstructure_stone_flag</th>\n",
       "      <td>260601.0</td>\n",
       "      <td>0.034332</td>\n",
       "      <td>0.182081</td>\n",
       "      <td>0.0</td>\n",
       "      <td>0.0</td>\n",
       "      <td>0.0</td>\n",
       "      <td>0.0</td>\n",
       "      <td>1.0</td>\n",
       "    </tr>\n",
       "    <tr>\n",
       "      <th>has_superstructure_cement_mortar_stone</th>\n",
       "      <td>260601.0</td>\n",
       "      <td>0.018235</td>\n",
       "      <td>0.133800</td>\n",
       "      <td>0.0</td>\n",
       "      <td>0.0</td>\n",
       "      <td>0.0</td>\n",
       "      <td>0.0</td>\n",
       "      <td>1.0</td>\n",
       "    </tr>\n",
       "    <tr>\n",
       "      <th>has_superstructure_mud_mortar_brick</th>\n",
       "      <td>260601.0</td>\n",
       "      <td>0.068154</td>\n",
       "      <td>0.252010</td>\n",
       "      <td>0.0</td>\n",
       "      <td>0.0</td>\n",
       "      <td>0.0</td>\n",
       "      <td>0.0</td>\n",
       "      <td>1.0</td>\n",
       "    </tr>\n",
       "    <tr>\n",
       "      <th>has_superstructure_cement_mortar_brick</th>\n",
       "      <td>260601.0</td>\n",
       "      <td>0.075268</td>\n",
       "      <td>0.263824</td>\n",
       "      <td>0.0</td>\n",
       "      <td>0.0</td>\n",
       "      <td>0.0</td>\n",
       "      <td>0.0</td>\n",
       "      <td>1.0</td>\n",
       "    </tr>\n",
       "    <tr>\n",
       "      <th>has_superstructure_timber</th>\n",
       "      <td>260601.0</td>\n",
       "      <td>0.254988</td>\n",
       "      <td>0.435855</td>\n",
       "      <td>0.0</td>\n",
       "      <td>0.0</td>\n",
       "      <td>0.0</td>\n",
       "      <td>1.0</td>\n",
       "      <td>1.0</td>\n",
       "    </tr>\n",
       "    <tr>\n",
       "      <th>has_superstructure_bamboo</th>\n",
       "      <td>260601.0</td>\n",
       "      <td>0.085011</td>\n",
       "      <td>0.278899</td>\n",
       "      <td>0.0</td>\n",
       "      <td>0.0</td>\n",
       "      <td>0.0</td>\n",
       "      <td>0.0</td>\n",
       "      <td>1.0</td>\n",
       "    </tr>\n",
       "    <tr>\n",
       "      <th>has_superstructure_rc_non_engineered</th>\n",
       "      <td>260601.0</td>\n",
       "      <td>0.042590</td>\n",
       "      <td>0.201931</td>\n",
       "      <td>0.0</td>\n",
       "      <td>0.0</td>\n",
       "      <td>0.0</td>\n",
       "      <td>0.0</td>\n",
       "      <td>1.0</td>\n",
       "    </tr>\n",
       "    <tr>\n",
       "      <th>has_superstructure_rc_engineered</th>\n",
       "      <td>260601.0</td>\n",
       "      <td>0.015859</td>\n",
       "      <td>0.124932</td>\n",
       "      <td>0.0</td>\n",
       "      <td>0.0</td>\n",
       "      <td>0.0</td>\n",
       "      <td>0.0</td>\n",
       "      <td>1.0</td>\n",
       "    </tr>\n",
       "    <tr>\n",
       "      <th>has_superstructure_other</th>\n",
       "      <td>260601.0</td>\n",
       "      <td>0.014985</td>\n",
       "      <td>0.121491</td>\n",
       "      <td>0.0</td>\n",
       "      <td>0.0</td>\n",
       "      <td>0.0</td>\n",
       "      <td>0.0</td>\n",
       "      <td>1.0</td>\n",
       "    </tr>\n",
       "    <tr>\n",
       "      <th>count_families</th>\n",
       "      <td>260601.0</td>\n",
       "      <td>0.983949</td>\n",
       "      <td>0.418389</td>\n",
       "      <td>0.0</td>\n",
       "      <td>1.0</td>\n",
       "      <td>1.0</td>\n",
       "      <td>1.0</td>\n",
       "      <td>9.0</td>\n",
       "    </tr>\n",
       "    <tr>\n",
       "      <th>has_secondary_use</th>\n",
       "      <td>260601.0</td>\n",
       "      <td>0.111880</td>\n",
       "      <td>0.315219</td>\n",
       "      <td>0.0</td>\n",
       "      <td>0.0</td>\n",
       "      <td>0.0</td>\n",
       "      <td>0.0</td>\n",
       "      <td>1.0</td>\n",
       "    </tr>\n",
       "    <tr>\n",
       "      <th>has_secondary_use_agriculture</th>\n",
       "      <td>260601.0</td>\n",
       "      <td>0.064378</td>\n",
       "      <td>0.245426</td>\n",
       "      <td>0.0</td>\n",
       "      <td>0.0</td>\n",
       "      <td>0.0</td>\n",
       "      <td>0.0</td>\n",
       "      <td>1.0</td>\n",
       "    </tr>\n",
       "    <tr>\n",
       "      <th>has_secondary_use_hotel</th>\n",
       "      <td>260601.0</td>\n",
       "      <td>0.033626</td>\n",
       "      <td>0.180265</td>\n",
       "      <td>0.0</td>\n",
       "      <td>0.0</td>\n",
       "      <td>0.0</td>\n",
       "      <td>0.0</td>\n",
       "      <td>1.0</td>\n",
       "    </tr>\n",
       "    <tr>\n",
       "      <th>has_secondary_use_rental</th>\n",
       "      <td>260601.0</td>\n",
       "      <td>0.008101</td>\n",
       "      <td>0.089638</td>\n",
       "      <td>0.0</td>\n",
       "      <td>0.0</td>\n",
       "      <td>0.0</td>\n",
       "      <td>0.0</td>\n",
       "      <td>1.0</td>\n",
       "    </tr>\n",
       "    <tr>\n",
       "      <th>has_secondary_use_institution</th>\n",
       "      <td>260601.0</td>\n",
       "      <td>0.000940</td>\n",
       "      <td>0.030647</td>\n",
       "      <td>0.0</td>\n",
       "      <td>0.0</td>\n",
       "      <td>0.0</td>\n",
       "      <td>0.0</td>\n",
       "      <td>1.0</td>\n",
       "    </tr>\n",
       "    <tr>\n",
       "      <th>has_secondary_use_school</th>\n",
       "      <td>260601.0</td>\n",
       "      <td>0.000361</td>\n",
       "      <td>0.018989</td>\n",
       "      <td>0.0</td>\n",
       "      <td>0.0</td>\n",
       "      <td>0.0</td>\n",
       "      <td>0.0</td>\n",
       "      <td>1.0</td>\n",
       "    </tr>\n",
       "    <tr>\n",
       "      <th>has_secondary_use_industry</th>\n",
       "      <td>260601.0</td>\n",
       "      <td>0.001071</td>\n",
       "      <td>0.032703</td>\n",
       "      <td>0.0</td>\n",
       "      <td>0.0</td>\n",
       "      <td>0.0</td>\n",
       "      <td>0.0</td>\n",
       "      <td>1.0</td>\n",
       "    </tr>\n",
       "    <tr>\n",
       "      <th>has_secondary_use_health_post</th>\n",
       "      <td>260601.0</td>\n",
       "      <td>0.000188</td>\n",
       "      <td>0.013711</td>\n",
       "      <td>0.0</td>\n",
       "      <td>0.0</td>\n",
       "      <td>0.0</td>\n",
       "      <td>0.0</td>\n",
       "      <td>1.0</td>\n",
       "    </tr>\n",
       "    <tr>\n",
       "      <th>has_secondary_use_gov_office</th>\n",
       "      <td>260601.0</td>\n",
       "      <td>0.000146</td>\n",
       "      <td>0.012075</td>\n",
       "      <td>0.0</td>\n",
       "      <td>0.0</td>\n",
       "      <td>0.0</td>\n",
       "      <td>0.0</td>\n",
       "      <td>1.0</td>\n",
       "    </tr>\n",
       "    <tr>\n",
       "      <th>has_secondary_use_use_police</th>\n",
       "      <td>260601.0</td>\n",
       "      <td>0.000088</td>\n",
       "      <td>0.009394</td>\n",
       "      <td>0.0</td>\n",
       "      <td>0.0</td>\n",
       "      <td>0.0</td>\n",
       "      <td>0.0</td>\n",
       "      <td>1.0</td>\n",
       "    </tr>\n",
       "    <tr>\n",
       "      <th>has_secondary_use_other</th>\n",
       "      <td>260601.0</td>\n",
       "      <td>0.005119</td>\n",
       "      <td>0.071364</td>\n",
       "      <td>0.0</td>\n",
       "      <td>0.0</td>\n",
       "      <td>0.0</td>\n",
       "      <td>0.0</td>\n",
       "      <td>1.0</td>\n",
       "    </tr>\n",
       "  </tbody>\n",
       "</table>\n",
       "</div>"
      ],
      "text/plain": [
       "                                           count           mean  \\\n",
       "building_id                             260601.0  525675.482773   \n",
       "geo_level_1_id                          260601.0      13.900353   \n",
       "geo_level_2_id                          260601.0     701.074685   \n",
       "geo_level_3_id                          260601.0    6257.876148   \n",
       "count_floors_pre_eq                     260601.0       2.129723   \n",
       "age                                     260601.0      26.535029   \n",
       "area_percentage                         260601.0       8.018051   \n",
       "height_percentage                       260601.0       5.434365   \n",
       "has_superstructure_adobe_mud            260601.0       0.088645   \n",
       "has_superstructure_mud_mortar_stone     260601.0       0.761935   \n",
       "has_superstructure_stone_flag           260601.0       0.034332   \n",
       "has_superstructure_cement_mortar_stone  260601.0       0.018235   \n",
       "has_superstructure_mud_mortar_brick     260601.0       0.068154   \n",
       "has_superstructure_cement_mortar_brick  260601.0       0.075268   \n",
       "has_superstructure_timber               260601.0       0.254988   \n",
       "has_superstructure_bamboo               260601.0       0.085011   \n",
       "has_superstructure_rc_non_engineered    260601.0       0.042590   \n",
       "has_superstructure_rc_engineered        260601.0       0.015859   \n",
       "has_superstructure_other                260601.0       0.014985   \n",
       "count_families                          260601.0       0.983949   \n",
       "has_secondary_use                       260601.0       0.111880   \n",
       "has_secondary_use_agriculture           260601.0       0.064378   \n",
       "has_secondary_use_hotel                 260601.0       0.033626   \n",
       "has_secondary_use_rental                260601.0       0.008101   \n",
       "has_secondary_use_institution           260601.0       0.000940   \n",
       "has_secondary_use_school                260601.0       0.000361   \n",
       "has_secondary_use_industry              260601.0       0.001071   \n",
       "has_secondary_use_health_post           260601.0       0.000188   \n",
       "has_secondary_use_gov_office            260601.0       0.000146   \n",
       "has_secondary_use_use_police            260601.0       0.000088   \n",
       "has_secondary_use_other                 260601.0       0.005119   \n",
       "\n",
       "                                                  std  min       25%  \\\n",
       "building_id                             304544.999032  4.0  261190.0   \n",
       "geo_level_1_id                               8.033617  0.0       7.0   \n",
       "geo_level_2_id                             412.710734  0.0     350.0   \n",
       "geo_level_3_id                            3646.369645  0.0    3073.0   \n",
       "count_floors_pre_eq                          0.727665  1.0       2.0   \n",
       "age                                         73.565937  0.0      10.0   \n",
       "area_percentage                              4.392231  1.0       5.0   \n",
       "height_percentage                            1.918418  2.0       4.0   \n",
       "has_superstructure_adobe_mud                 0.284231  0.0       0.0   \n",
       "has_superstructure_mud_mortar_stone          0.425900  0.0       1.0   \n",
       "has_superstructure_stone_flag                0.182081  0.0       0.0   \n",
       "has_superstructure_cement_mortar_stone       0.133800  0.0       0.0   \n",
       "has_superstructure_mud_mortar_brick          0.252010  0.0       0.0   \n",
       "has_superstructure_cement_mortar_brick       0.263824  0.0       0.0   \n",
       "has_superstructure_timber                    0.435855  0.0       0.0   \n",
       "has_superstructure_bamboo                    0.278899  0.0       0.0   \n",
       "has_superstructure_rc_non_engineered         0.201931  0.0       0.0   \n",
       "has_superstructure_rc_engineered             0.124932  0.0       0.0   \n",
       "has_superstructure_other                     0.121491  0.0       0.0   \n",
       "count_families                               0.418389  0.0       1.0   \n",
       "has_secondary_use                            0.315219  0.0       0.0   \n",
       "has_secondary_use_agriculture                0.245426  0.0       0.0   \n",
       "has_secondary_use_hotel                      0.180265  0.0       0.0   \n",
       "has_secondary_use_rental                     0.089638  0.0       0.0   \n",
       "has_secondary_use_institution                0.030647  0.0       0.0   \n",
       "has_secondary_use_school                     0.018989  0.0       0.0   \n",
       "has_secondary_use_industry                   0.032703  0.0       0.0   \n",
       "has_secondary_use_health_post                0.013711  0.0       0.0   \n",
       "has_secondary_use_gov_office                 0.012075  0.0       0.0   \n",
       "has_secondary_use_use_police                 0.009394  0.0       0.0   \n",
       "has_secondary_use_other                      0.071364  0.0       0.0   \n",
       "\n",
       "                                             50%       75%        max  \n",
       "building_id                             525757.0  789762.0  1052934.0  \n",
       "geo_level_1_id                              12.0      21.0       30.0  \n",
       "geo_level_2_id                             702.0    1050.0     1427.0  \n",
       "geo_level_3_id                            6270.0    9412.0    12567.0  \n",
       "count_floors_pre_eq                          2.0       2.0        9.0  \n",
       "age                                         15.0      30.0      995.0  \n",
       "area_percentage                              7.0       9.0      100.0  \n",
       "height_percentage                            5.0       6.0       32.0  \n",
       "has_superstructure_adobe_mud                 0.0       0.0        1.0  \n",
       "has_superstructure_mud_mortar_stone          1.0       1.0        1.0  \n",
       "has_superstructure_stone_flag                0.0       0.0        1.0  \n",
       "has_superstructure_cement_mortar_stone       0.0       0.0        1.0  \n",
       "has_superstructure_mud_mortar_brick          0.0       0.0        1.0  \n",
       "has_superstructure_cement_mortar_brick       0.0       0.0        1.0  \n",
       "has_superstructure_timber                    0.0       1.0        1.0  \n",
       "has_superstructure_bamboo                    0.0       0.0        1.0  \n",
       "has_superstructure_rc_non_engineered         0.0       0.0        1.0  \n",
       "has_superstructure_rc_engineered             0.0       0.0        1.0  \n",
       "has_superstructure_other                     0.0       0.0        1.0  \n",
       "count_families                               1.0       1.0        9.0  \n",
       "has_secondary_use                            0.0       0.0        1.0  \n",
       "has_secondary_use_agriculture                0.0       0.0        1.0  \n",
       "has_secondary_use_hotel                      0.0       0.0        1.0  \n",
       "has_secondary_use_rental                     0.0       0.0        1.0  \n",
       "has_secondary_use_institution                0.0       0.0        1.0  \n",
       "has_secondary_use_school                     0.0       0.0        1.0  \n",
       "has_secondary_use_industry                   0.0       0.0        1.0  \n",
       "has_secondary_use_health_post                0.0       0.0        1.0  \n",
       "has_secondary_use_gov_office                 0.0       0.0        1.0  \n",
       "has_secondary_use_use_police                 0.0       0.0        1.0  \n",
       "has_secondary_use_other                      0.0       0.0        1.0  "
      ]
     },
     "execution_count": 4,
     "metadata": {},
     "output_type": "execute_result"
    }
   ],
   "source": [
    "X_train.describe().T"
   ]
  },
  {
   "cell_type": "markdown",
   "metadata": {},
   "source": [
    "39 Columnas\n",
    "<ul>\n",
    "    <li>8 columnas categóricas<\\li>\n",
    "    <li>22 columnas binarias<\\li>\n",
    "    <li>1 columna de ID<\\li>\n",
    "    <li>8 columnas numéricas no binarias<\\li>\n",
    "<\\ul>"
   ]
  },
  {
   "cell_type": "code",
   "execution_count": 5,
   "metadata": {},
   "outputs": [
    {
     "data": {
      "text/html": [
       "<div>\n",
       "<style scoped>\n",
       "    .dataframe tbody tr th:only-of-type {\n",
       "        vertical-align: middle;\n",
       "    }\n",
       "\n",
       "    .dataframe tbody tr th {\n",
       "        vertical-align: top;\n",
       "    }\n",
       "\n",
       "    .dataframe thead th {\n",
       "        text-align: right;\n",
       "    }\n",
       "</style>\n",
       "<table border=\"1\" class=\"dataframe\">\n",
       "  <thead>\n",
       "    <tr style=\"text-align: right;\">\n",
       "      <th></th>\n",
       "      <th>columna</th>\n",
       "      <th>elementos</th>\n",
       "      <th>cantidad</th>\n",
       "    </tr>\n",
       "  </thead>\n",
       "  <tbody>\n",
       "    <tr>\n",
       "      <th>0</th>\n",
       "      <td>building_id</td>\n",
       "      <td>-</td>\n",
       "      <td>260601</td>\n",
       "    </tr>\n",
       "    <tr>\n",
       "      <th>1</th>\n",
       "      <td>geo_level_1_id</td>\n",
       "      <td>-</td>\n",
       "      <td>31</td>\n",
       "    </tr>\n",
       "    <tr>\n",
       "      <th>2</th>\n",
       "      <td>geo_level_2_id</td>\n",
       "      <td>-</td>\n",
       "      <td>1414</td>\n",
       "    </tr>\n",
       "    <tr>\n",
       "      <th>3</th>\n",
       "      <td>geo_level_3_id</td>\n",
       "      <td>-</td>\n",
       "      <td>11595</td>\n",
       "    </tr>\n",
       "    <tr>\n",
       "      <th>4</th>\n",
       "      <td>count_floors_pre_eq</td>\n",
       "      <td>[1, 2, 3, 4, 5, 6, 7, 8, 9]</td>\n",
       "      <td>9</td>\n",
       "    </tr>\n",
       "    <tr>\n",
       "      <th>5</th>\n",
       "      <td>age</td>\n",
       "      <td>-</td>\n",
       "      <td>42</td>\n",
       "    </tr>\n",
       "    <tr>\n",
       "      <th>6</th>\n",
       "      <td>area_percentage</td>\n",
       "      <td>-</td>\n",
       "      <td>84</td>\n",
       "    </tr>\n",
       "    <tr>\n",
       "      <th>7</th>\n",
       "      <td>height_percentage</td>\n",
       "      <td>-</td>\n",
       "      <td>27</td>\n",
       "    </tr>\n",
       "    <tr>\n",
       "      <th>8</th>\n",
       "      <td>land_surface_condition</td>\n",
       "      <td>[n, o, t]</td>\n",
       "      <td>3</td>\n",
       "    </tr>\n",
       "    <tr>\n",
       "      <th>9</th>\n",
       "      <td>foundation_type</td>\n",
       "      <td>[h, i, r, u, w]</td>\n",
       "      <td>5</td>\n",
       "    </tr>\n",
       "    <tr>\n",
       "      <th>10</th>\n",
       "      <td>roof_type</td>\n",
       "      <td>[n, q, x]</td>\n",
       "      <td>3</td>\n",
       "    </tr>\n",
       "    <tr>\n",
       "      <th>11</th>\n",
       "      <td>ground_floor_type</td>\n",
       "      <td>[f, m, v, x, z]</td>\n",
       "      <td>5</td>\n",
       "    </tr>\n",
       "    <tr>\n",
       "      <th>12</th>\n",
       "      <td>other_floor_type</td>\n",
       "      <td>[j, q, s, x]</td>\n",
       "      <td>4</td>\n",
       "    </tr>\n",
       "    <tr>\n",
       "      <th>13</th>\n",
       "      <td>position</td>\n",
       "      <td>[j, o, s, t]</td>\n",
       "      <td>4</td>\n",
       "    </tr>\n",
       "    <tr>\n",
       "      <th>14</th>\n",
       "      <td>plan_configuration</td>\n",
       "      <td>[a, c, d, f, m, n, o, q, s, u]</td>\n",
       "      <td>10</td>\n",
       "    </tr>\n",
       "    <tr>\n",
       "      <th>15</th>\n",
       "      <td>has_superstructure_adobe_mud</td>\n",
       "      <td>[0, 1]</td>\n",
       "      <td>2</td>\n",
       "    </tr>\n",
       "    <tr>\n",
       "      <th>16</th>\n",
       "      <td>has_superstructure_mud_mortar_stone</td>\n",
       "      <td>[0, 1]</td>\n",
       "      <td>2</td>\n",
       "    </tr>\n",
       "    <tr>\n",
       "      <th>17</th>\n",
       "      <td>has_superstructure_stone_flag</td>\n",
       "      <td>[0, 1]</td>\n",
       "      <td>2</td>\n",
       "    </tr>\n",
       "    <tr>\n",
       "      <th>18</th>\n",
       "      <td>has_superstructure_cement_mortar_stone</td>\n",
       "      <td>[0, 1]</td>\n",
       "      <td>2</td>\n",
       "    </tr>\n",
       "    <tr>\n",
       "      <th>19</th>\n",
       "      <td>has_superstructure_mud_mortar_brick</td>\n",
       "      <td>[0, 1]</td>\n",
       "      <td>2</td>\n",
       "    </tr>\n",
       "    <tr>\n",
       "      <th>20</th>\n",
       "      <td>has_superstructure_cement_mortar_brick</td>\n",
       "      <td>[0, 1]</td>\n",
       "      <td>2</td>\n",
       "    </tr>\n",
       "    <tr>\n",
       "      <th>21</th>\n",
       "      <td>has_superstructure_timber</td>\n",
       "      <td>[0, 1]</td>\n",
       "      <td>2</td>\n",
       "    </tr>\n",
       "    <tr>\n",
       "      <th>22</th>\n",
       "      <td>has_superstructure_bamboo</td>\n",
       "      <td>[0, 1]</td>\n",
       "      <td>2</td>\n",
       "    </tr>\n",
       "    <tr>\n",
       "      <th>23</th>\n",
       "      <td>has_superstructure_rc_non_engineered</td>\n",
       "      <td>[0, 1]</td>\n",
       "      <td>2</td>\n",
       "    </tr>\n",
       "    <tr>\n",
       "      <th>24</th>\n",
       "      <td>has_superstructure_rc_engineered</td>\n",
       "      <td>[0, 1]</td>\n",
       "      <td>2</td>\n",
       "    </tr>\n",
       "    <tr>\n",
       "      <th>25</th>\n",
       "      <td>has_superstructure_other</td>\n",
       "      <td>[0, 1]</td>\n",
       "      <td>2</td>\n",
       "    </tr>\n",
       "    <tr>\n",
       "      <th>26</th>\n",
       "      <td>legal_ownership_status</td>\n",
       "      <td>[a, r, v, w]</td>\n",
       "      <td>4</td>\n",
       "    </tr>\n",
       "    <tr>\n",
       "      <th>27</th>\n",
       "      <td>count_families</td>\n",
       "      <td>[0, 1, 2, 3, 4, 5, 6, 7, 8, 9]</td>\n",
       "      <td>10</td>\n",
       "    </tr>\n",
       "    <tr>\n",
       "      <th>28</th>\n",
       "      <td>has_secondary_use</td>\n",
       "      <td>[0, 1]</td>\n",
       "      <td>2</td>\n",
       "    </tr>\n",
       "    <tr>\n",
       "      <th>29</th>\n",
       "      <td>has_secondary_use_agriculture</td>\n",
       "      <td>[0, 1]</td>\n",
       "      <td>2</td>\n",
       "    </tr>\n",
       "    <tr>\n",
       "      <th>30</th>\n",
       "      <td>has_secondary_use_hotel</td>\n",
       "      <td>[0, 1]</td>\n",
       "      <td>2</td>\n",
       "    </tr>\n",
       "    <tr>\n",
       "      <th>31</th>\n",
       "      <td>has_secondary_use_rental</td>\n",
       "      <td>[0, 1]</td>\n",
       "      <td>2</td>\n",
       "    </tr>\n",
       "    <tr>\n",
       "      <th>32</th>\n",
       "      <td>has_secondary_use_institution</td>\n",
       "      <td>[0, 1]</td>\n",
       "      <td>2</td>\n",
       "    </tr>\n",
       "    <tr>\n",
       "      <th>33</th>\n",
       "      <td>has_secondary_use_school</td>\n",
       "      <td>[0, 1]</td>\n",
       "      <td>2</td>\n",
       "    </tr>\n",
       "    <tr>\n",
       "      <th>34</th>\n",
       "      <td>has_secondary_use_industry</td>\n",
       "      <td>[0, 1]</td>\n",
       "      <td>2</td>\n",
       "    </tr>\n",
       "    <tr>\n",
       "      <th>35</th>\n",
       "      <td>has_secondary_use_health_post</td>\n",
       "      <td>[0, 1]</td>\n",
       "      <td>2</td>\n",
       "    </tr>\n",
       "    <tr>\n",
       "      <th>36</th>\n",
       "      <td>has_secondary_use_gov_office</td>\n",
       "      <td>[0, 1]</td>\n",
       "      <td>2</td>\n",
       "    </tr>\n",
       "    <tr>\n",
       "      <th>37</th>\n",
       "      <td>has_secondary_use_use_police</td>\n",
       "      <td>[0, 1]</td>\n",
       "      <td>2</td>\n",
       "    </tr>\n",
       "    <tr>\n",
       "      <th>38</th>\n",
       "      <td>has_secondary_use_other</td>\n",
       "      <td>[0, 1]</td>\n",
       "      <td>2</td>\n",
       "    </tr>\n",
       "  </tbody>\n",
       "</table>\n",
       "</div>"
      ],
      "text/plain": [
       "                                   columna                       elementos  \\\n",
       "0                              building_id                               -   \n",
       "1                           geo_level_1_id                               -   \n",
       "2                           geo_level_2_id                               -   \n",
       "3                           geo_level_3_id                               -   \n",
       "4                      count_floors_pre_eq     [1, 2, 3, 4, 5, 6, 7, 8, 9]   \n",
       "5                                      age                               -   \n",
       "6                          area_percentage                               -   \n",
       "7                        height_percentage                               -   \n",
       "8                   land_surface_condition                       [n, o, t]   \n",
       "9                          foundation_type                 [h, i, r, u, w]   \n",
       "10                               roof_type                       [n, q, x]   \n",
       "11                       ground_floor_type                 [f, m, v, x, z]   \n",
       "12                        other_floor_type                    [j, q, s, x]   \n",
       "13                                position                    [j, o, s, t]   \n",
       "14                      plan_configuration  [a, c, d, f, m, n, o, q, s, u]   \n",
       "15            has_superstructure_adobe_mud                          [0, 1]   \n",
       "16     has_superstructure_mud_mortar_stone                          [0, 1]   \n",
       "17           has_superstructure_stone_flag                          [0, 1]   \n",
       "18  has_superstructure_cement_mortar_stone                          [0, 1]   \n",
       "19     has_superstructure_mud_mortar_brick                          [0, 1]   \n",
       "20  has_superstructure_cement_mortar_brick                          [0, 1]   \n",
       "21               has_superstructure_timber                          [0, 1]   \n",
       "22               has_superstructure_bamboo                          [0, 1]   \n",
       "23    has_superstructure_rc_non_engineered                          [0, 1]   \n",
       "24        has_superstructure_rc_engineered                          [0, 1]   \n",
       "25                has_superstructure_other                          [0, 1]   \n",
       "26                  legal_ownership_status                    [a, r, v, w]   \n",
       "27                          count_families  [0, 1, 2, 3, 4, 5, 6, 7, 8, 9]   \n",
       "28                       has_secondary_use                          [0, 1]   \n",
       "29           has_secondary_use_agriculture                          [0, 1]   \n",
       "30                 has_secondary_use_hotel                          [0, 1]   \n",
       "31                has_secondary_use_rental                          [0, 1]   \n",
       "32           has_secondary_use_institution                          [0, 1]   \n",
       "33                has_secondary_use_school                          [0, 1]   \n",
       "34              has_secondary_use_industry                          [0, 1]   \n",
       "35           has_secondary_use_health_post                          [0, 1]   \n",
       "36            has_secondary_use_gov_office                          [0, 1]   \n",
       "37            has_secondary_use_use_police                          [0, 1]   \n",
       "38                 has_secondary_use_other                          [0, 1]   \n",
       "\n",
       "    cantidad  \n",
       "0     260601  \n",
       "1         31  \n",
       "2       1414  \n",
       "3      11595  \n",
       "4          9  \n",
       "5         42  \n",
       "6         84  \n",
       "7         27  \n",
       "8          3  \n",
       "9          5  \n",
       "10         3  \n",
       "11         5  \n",
       "12         4  \n",
       "13         4  \n",
       "14        10  \n",
       "15         2  \n",
       "16         2  \n",
       "17         2  \n",
       "18         2  \n",
       "19         2  \n",
       "20         2  \n",
       "21         2  \n",
       "22         2  \n",
       "23         2  \n",
       "24         2  \n",
       "25         2  \n",
       "26         4  \n",
       "27        10  \n",
       "28         2  \n",
       "29         2  \n",
       "30         2  \n",
       "31         2  \n",
       "32         2  \n",
       "33         2  \n",
       "34         2  \n",
       "35         2  \n",
       "36         2  \n",
       "37         2  \n",
       "38         2  "
      ]
     },
     "execution_count": 5,
     "metadata": {},
     "output_type": "execute_result"
    }
   ],
   "source": [
    "show_variables(X_train)"
   ]
  },
  {
   "cell_type": "markdown",
   "metadata": {},
   "source": [
    "# Visualización\n",
    "Los siguientes graficos nos muestran si existe alguna relación clara entre algunas de las caracteristicas de los edificios y el grado de daño que sufrio por el terremoto."
   ]
  },
  {
   "cell_type": "markdown",
   "metadata": {},
   "source": [
    "### Cantidad de edificios que sufrieron cierto grado de daño"
   ]
  },
  {
   "cell_type": "code",
   "execution_count": 6,
   "metadata": {},
   "outputs": [
    {
     "data": {
      "text/plain": [
       "<AxesSubplot:xlabel='damage_grade', ylabel='count'>"
      ]
     },
     "execution_count": 6,
     "metadata": {},
     "output_type": "execute_result"
    },
    {
     "data": {
      "image/png": "[encoded data removed]",
      "text/plain": [
       "<Figure size 720x576 with 1 Axes>"
      ]
     },
     "metadata": {
      "needs_background": "light"
     },
     "output_type": "display_data"
    }
   ],
   "source": [
    "plt.figure(figsize=(10,8))\n",
    "sb.countplot(x=y_train[\"damage_grade\"], palette=\"viridis\")"
   ]
  },
  {
   "cell_type": "markdown",
   "metadata": {},
   "source": [
    "### Antiguedad del edificio \n",
    "Se separan los edificios por edad y se grafica el porcentaje de edificios de cierta edad que sufrieron cierto grado de daño. Por ejemplo, en el grupo los edificios de 5 años de antiguedad, alrededor del 60% de estos sufrieron un daño de grado 2, menos del 20% sufrieron un daño de grado 1, etc. Observamos que mientras mas antiguo el edificio, aumenta el porcentaje de edificios que sufrieron daño de grado 2 y 3, y disminuye el porcentaje de edificios que sufrieron daño de grado 1."
   ]
  },
  {
   "cell_type": "code",
   "execution_count": 7,
   "metadata": {
    "jupyter": {
     "source_hidden": true
    }
   },
   "outputs": [],
   "source": [
    "train=X_train.merge(y_train, on=\"building_id\")\n",
    "values = X_train[\"age\"].unique()\n",
    "d = {\"percentage\": [], \"age\" : [], \"damage_grade\": []}\n",
    "for val in values:\n",
    "    tot = train.query(f\"age == {val}\").count().unique()[0]\n",
    "    for dam in [1,2,3]:\n",
    "        part = train.query(f\"age == {val}\").query(f\"damage_grade == {dam}\").count().unique()[0]\n",
    "        d[\"percentage\"].append(part/tot)\n",
    "        d[\"age\"].append(val)\n",
    "        d[\"damage_grade\"].append(dam)\n",
    "aux = pd.DataFrame(d, index = range(len(d[\"percentage\"])))"
   ]
  },
  {
   "cell_type": "code",
   "execution_count": 8,
   "metadata": {},
   "outputs": [
    {
     "data": {
      "text/plain": [
       "<seaborn.axisgrid.FacetGrid at 0x13fe10f6bc8>"
      ]
     },
     "execution_count": 8,
     "metadata": {},
     "output_type": "execute_result"
    },
    {
     "data": {
      "image/png": "[encoded data removed]",
      "text/plain": [
       "<Figure size 1378.88x432 with 1 Axes>"
      ]
     },
     "metadata": {
      "needs_background": "light"
     },
     "output_type": "display_data"
    }
   ],
   "source": [
    "sb.catplot(data=aux, kind=\"bar\", x=\"age\", y=\"percentage\", hue=\"damage_grade\", palette=\"bright\", alpha=1, height=6, aspect=3)"
   ]
  },
  {
   "cell_type": "markdown",
   "metadata": {},
   "source": [
    "### Cantidad de pisos antes del terremoto\n",
    "Se separan los edificios por cantidad de pisos antes del terremoto, y se grafica el porcentaje de edificios que tenian n pisos antes del terremoto que sufrieron cierto grado de daño. "
   ]
  },
  {
   "cell_type": "code",
   "execution_count": 9,
   "metadata": {
    "jupyter": {
     "source_hidden": true
    }
   },
   "outputs": [],
   "source": [
    "values = X_train[\"count_floors_pre_eq\"].unique()\n",
    "d2 = {\"percentage\": [], \"count_floors_pre_eq\" : [], \"damage_grade\": []}\n",
    "for val in values:\n",
    "    tot = train.query(f\"count_floors_pre_eq == {val}\").count().unique()[0]\n",
    "    for dam in [1,2,3]:\n",
    "        part = train.query(f\"count_floors_pre_eq == {val}\").query(f\"damage_grade == {dam}\").count().unique()[0]\n",
    "        d2[\"percentage\"].append(part/tot)\n",
    "        d2[\"count_floors_pre_eq\"].append(val)\n",
    "        d2[\"damage_grade\"].append(dam)\n",
    "        \n",
    "aux2 = pd.DataFrame(d2, index = range(len(d2[\"percentage\"])))"
   ]
  },
  {
   "cell_type": "code",
   "execution_count": 10,
   "metadata": {},
   "outputs": [
    {
     "data": {
      "text/plain": [
       "<seaborn.axisgrid.FacetGrid at 0x13fe19b3e08>"
      ]
     },
     "execution_count": 10,
     "metadata": {},
     "output_type": "execute_result"
    },
    {
     "data": {
      "image/png": "[encoded data removed]",
      "text/plain": [
       "<Figure size 1378.88x432 with 1 Axes>"
      ]
     },
     "metadata": {
      "needs_background": "light"
     },
     "output_type": "display_data"
    }
   ],
   "source": [
    "sb.catplot(data=aux2, kind=\"bar\", x=\"count_floors_pre_eq\", y=\"percentage\", hue=\"damage_grade\", palette=\"dark\", alpha=1, height=6, aspect=3)"
   ]
  },
  {
   "cell_type": "code",
   "execution_count": 11,
   "metadata": {
    "jupyter": {
     "source_hidden": true
    }
   },
   "outputs": [],
   "source": [
    "values = X_train[\"height_percentage\"].unique()\n",
    "d3 = {\"percentage\": [], \"height_percentage\" : [], \"damage_grade\": []}\n",
    "for val in values:\n",
    "    tot = train.query(f\"height_percentage == {val}\").count().unique()[0]\n",
    "    for dam in [1,2,3]:\n",
    "        part = train.query(f\"height_percentage == {val}\").query(f\"damage_grade == {dam}\").count().unique()[0]\n",
    "        d3[\"percentage\"].append(part/tot)\n",
    "        d3[\"height_percentage\"].append(val)\n",
    "        d3[\"damage_grade\"].append(dam)\n",
    "        \n",
    "aux3 = pd.DataFrame(d3, index = range(len(d3[\"percentage\"])))"
   ]
  },
  {
   "cell_type": "markdown",
   "metadata": {},
   "source": [
    "### Altura del edificio \n",
    "En este grafico se presenta la altura normalizada y el porcentaje de edificios de cierto tamaño que sufrieron algun grado de daño."
   ]
  },
  {
   "cell_type": "code",
   "execution_count": 12,
   "metadata": {},
   "outputs": [
    {
     "data": {
      "text/plain": [
       "<seaborn.axisgrid.FacetGrid at 0x13fe1957d08>"
      ]
     },
     "execution_count": 12,
     "metadata": {},
     "output_type": "execute_result"
    },
    {
     "data": {
      "image/png": "[encoded data removed]",
      "text/plain": [
       "<Figure size 1378.88x432 with 1 Axes>"
      ]
     },
     "metadata": {
      "needs_background": "light"
     },
     "output_type": "display_data"
    }
   ],
   "source": [
    "sb.catplot(data=aux3, kind=\"bar\", x=\"height_percentage\", y=\"percentage\", hue=\"damage_grade\", palette=\"tab10\", alpha=1, height=6, aspect=3)"
   ]
  },
  {
   "cell_type": "markdown",
   "metadata": {},
   "source": [
    "### Material del edificio\n",
    "Estos graficos nos muestran la cantidad de edificios que sufrieron cierto grado de daño y el material con el que fueron construidos."
   ]
  },
  {
   "cell_type": "code",
   "execution_count": 13,
   "metadata": {
    "jupyter": {
     "source_hidden": true
    }
   },
   "outputs": [
    {
     "data": {
      "image/png": "[encoded data removed]",
      "text/plain": [
       "<Figure size 1080x288 with 1 Axes>"
      ]
     },
     "metadata": {
      "needs_background": "light"
     },
     "output_type": "display_data"
    },
    {
     "data": {
      "image/png": "[encoded data removed]",
      "text/plain": [
       "<Figure size 1080x288 with 1 Axes>"
      ]
     },
     "metadata": {
      "needs_background": "light"
     },
     "output_type": "display_data"
    },
    {
     "data": {
      "image/png": "[encoded data removed]",
      "text/plain": [
       "<Figure size 1080x288 with 1 Axes>"
      ]
     },
     "metadata": {
      "needs_background": "light"
     },
     "output_type": "display_data"
    },
    {
     "data": {
      "image/png": "[encoded data removed]",
      "text/plain": [
       "<Figure size 1080x288 with 1 Axes>"
      ]
     },
     "metadata": {
      "needs_background": "light"
     },
     "output_type": "display_data"
    },
    {
     "data": {
      "image/png": "[encoded data removed]",
      "text/plain": [
       "<Figure size 1080x288 with 1 Axes>"
      ]
     },
     "metadata": {
      "needs_background": "light"
     },
     "output_type": "display_data"
    },
    {
     "data": {
      "image/png": "[encoded data removed]",
      "text/plain": [
       "<Figure size 1080x288 with 1 Axes>"
      ]
     },
     "metadata": {
      "needs_background": "light"
     },
     "output_type": "display_data"
    },
    {
     "data": {
      "image/png": "[encoded data removed]",
      "text/plain": [
       "<Figure size 1080x288 with 1 Axes>"
      ]
     },
     "metadata": {
      "needs_background": "light"
     },
     "output_type": "display_data"
    }
   ],
   "source": [
    "cols = ['has_superstructure_adobe_mud', 'has_superstructure_mud_mortar_stone',\n",
    "        'has_superstructure_cement_mortar_stone', 'has_superstructure_mud_mortar_brick', \n",
    "        'has_superstructure_cement_mortar_brick', 'has_superstructure_bamboo', \n",
    "        'has_superstructure_other'\n",
    "       ]\n",
    "\n",
    "for c in cols:\n",
    "    plt.figure(figsize=(15,4))\n",
    "    total = float(len(train[c])) \n",
    "    ax = sb.countplot(x = train[c], hue=train.damage_grade, palette='Paired')\n",
    "    plt.title(f\"{c} VS Damage Grade\")\n",
    "    for p in ax.patches:\n",
    "        height = p.get_height()\n",
    "        ax.text(p.get_x()+p.get_width()/2.,\n",
    "                height + 3,\n",
    "                '{:1.2f}'.format(height/total),\n",
    "                ha=\"center\") \n",
    "    plt.show()"
   ]
  },
  {
   "cell_type": "markdown",
   "metadata": {},
   "source": [
    "# Preprocesamiento"
   ]
  },
  {
   "cell_type": "code",
   "execution_count": 14,
   "metadata": {},
   "outputs": [
    {
     "data": {
      "text/plain": [
       "True"
      ]
     },
     "execution_count": 14,
     "metadata": {},
     "output_type": "execute_result"
    }
   ],
   "source": [
    "y_test.all(1).all()"
   ]
  },
  {
   "cell_type": "markdown",
   "metadata": {},
   "source": [
    "El vector objetivo tiene todos sus datos en la categoría (1), por lo que para evitar posibles errores con los datos test los descartamos, además tenemos columnas que no son relevantes para el entrenamiento de los modelos por lo que también son descartadas."
   ]
  },
  {
   "cell_type": "code",
   "execution_count": 4,
   "metadata": {},
   "outputs": [],
   "source": [
    "y = pd.read_csv(os.path.join(\"..\", \"data\", \"train_labels.csv\")).drop(\"building_id\", axis=1)\n",
    "X = pd.read_csv(os.path.join(\"..\", \"data\", \"train_values.csv\")).drop(['building_id','count_families',\n",
    "                                                                      'has_secondary_use',\n",
    "                                                                      'has_secondary_use_agriculture',\n",
    "                                                                      'has_secondary_use_hotel',\n",
    "                                                                      'has_secondary_use_rental',\n",
    "                                                                      'has_secondary_use_institution',\n",
    "                                                                      'has_secondary_use_school',\n",
    "                                                                      'has_secondary_use_industry',\n",
    "                                                                      'has_secondary_use_health_post',\n",
    "                                                                      'has_secondary_use_gov_office',\n",
    "                                                                      'has_secondary_use_use_police',\n",
    "                                                                      'has_secondary_use_other'], axis=1)"
   ]
  },
  {
   "cell_type": "markdown",
   "metadata": {},
   "source": [
    "Tenemos 260000+, por lo que podemos crear una partición de los datos y trabajar con ellos."
   ]
  },
  {
   "cell_type": "code",
   "execution_count": 5,
   "metadata": {},
   "outputs": [
    {
     "name": "stdout",
     "output_type": "stream",
     "text": [
      "Size of train Data: 200662\n",
      "Size of test Data: 59939\n"
     ]
    }
   ],
   "source": [
    "X_train, X_test, y_train, y_test = train_test_split(X, y, test_size=.23, random_state=42)\n",
    "print(f\"Size of train Data: {len(X_train)}\\nSize of test Data: {len(X_test)}\")"
   ]
  },
  {
   "cell_type": "markdown",
   "metadata": {},
   "source": [
    "Por otro lado, tenemos 8 columnas categóricas, necesitaremos transformarla a columnas binarias con *One hot encoder*"
   ]
  },
  {
   "cell_type": "code",
   "execution_count": 6,
   "metadata": {},
   "outputs": [
    {
     "data": {
      "text/plain": [
       "['land_surface_condition',\n",
       " 'foundation_type',\n",
       " 'roof_type',\n",
       " 'ground_floor_type',\n",
       " 'other_floor_type',\n",
       " 'position',\n",
       " 'plan_configuration',\n",
       " 'legal_ownership_status']"
      ]
     },
     "execution_count": 6,
     "metadata": {},
     "output_type": "execute_result"
    }
   ],
   "source": [
    "categorical_columns = []\n",
    "for col in X_train.columns:\n",
    "    if X_train[col].dtype == 'O':\n",
    "        categorical_columns.append(col)\n",
    "categorical_columns"
   ]
  },
  {
   "cell_type": "markdown",
   "metadata": {},
   "source": [
    "Y tenemos 18 columnas númericas a las que aplicaremos un Standard Scaler"
   ]
  },
  {
   "cell_type": "code",
   "execution_count": 7,
   "metadata": {},
   "outputs": [
    {
     "data": {
      "text/plain": [
       "['geo_level_1_id',\n",
       " 'geo_level_2_id',\n",
       " 'geo_level_3_id',\n",
       " 'count_floors_pre_eq',\n",
       " 'age',\n",
       " 'area_percentage',\n",
       " 'height_percentage',\n",
       " 'has_superstructure_adobe_mud',\n",
       " 'has_superstructure_mud_mortar_stone',\n",
       " 'has_superstructure_stone_flag',\n",
       " 'has_superstructure_cement_mortar_stone',\n",
       " 'has_superstructure_mud_mortar_brick',\n",
       " 'has_superstructure_cement_mortar_brick',\n",
       " 'has_superstructure_timber',\n",
       " 'has_superstructure_bamboo',\n",
       " 'has_superstructure_rc_non_engineered',\n",
       " 'has_superstructure_rc_engineered',\n",
       " 'has_superstructure_other']"
      ]
     },
     "execution_count": 7,
     "metadata": {},
     "output_type": "execute_result"
    }
   ],
   "source": [
    "num_columns = []\n",
    "for col in X_train.columns:\n",
    "    if X_train[col].dtype == 'int64':\n",
    "        num_columns.append(col)\n",
    "num_columns"
   ]
  },
  {
   "cell_type": "code",
   "execution_count": 8,
   "metadata": {},
   "outputs": [
    {
     "data": {
      "text/plain": [
       "dtype('float64')"
      ]
     },
     "execution_count": 8,
     "metadata": {},
     "output_type": "execute_result"
    }
   ],
   "source": [
    "preprocessor = make_column_transformer(\n",
    "    (OneHotEncoder(), categorical_columns),\n",
    "    (StandardScaler(), num_columns),\n",
    "    remainder=\"passthrough\"\n",
    ")\n",
    "\n",
    "preprocessor_knn = make_column_transformer(\n",
    "    (OneHotEncoder(), categorical_columns),\n",
    "    remainder=\"passthrough\"\n",
    ")\n",
    "X_processed_knn = preprocessor_knn.fit_transform(X_train)\n",
    "X_processed_test_knn = preprocessor_knn.fit_transform(X_test)\n",
    "\n",
    "X_processed = preprocessor.fit_transform(X_train)\n",
    "X_processed_test = preprocessor.fit_transform(X_test)\n",
    "X_processed.dtype"
   ]
  },
  {
   "cell_type": "markdown",
   "metadata": {},
   "source": [
    "Además creamos un preprocesamiento sin Standard Scaler ya que Knn parace funcionar mucho mejor con los valores originales"
   ]
  },
  {
   "cell_type": "markdown",
   "metadata": {},
   "source": [
    "# Modelo 1: K-Nearest Neighbors\n",
    "Modelo que busca clasificar datos en función de la clasificación que tienen sus vecinos \"más cercanos\"."
   ]
  },
  {
   "cell_type": "markdown",
   "metadata": {},
   "source": [
    "![](https://www.kdnuggets.com/wp-content/uploads/popular-knn-metrics-0.png)"
   ]
  },
  {
   "cell_type": "code",
   "execution_count": 20,
   "metadata": {},
   "outputs": [
    {
     "name": "stdout",
     "output_type": "stream",
     "text": [
      "neighbors: 1, score: 0.6665276364303708\n",
      "neighbors: 2, score: 0.6742688399873205\n",
      "neighbors: 3, score: 0.6906354794040608\n",
      "neighbors: 4, score: 0.6989606099534527\n",
      "neighbors: 5, score: 0.7026643754483725\n",
      "neighbors: 6, score: 0.7054505413837401\n",
      "neighbors: 7, score: 0.7078696674952869\n",
      "neighbors: 8, score: 0.707369158644622\n",
      "neighbors: 9, score: 0.7069687515640901\n",
      "neighbors: 10, score: 0.7086371143996396\n",
      "neighbors: 11, score: 0.7065683444835583\n",
      "neighbors: 12, score: 0.7056340612956505\n",
      "neighbors: 13, score: 0.7050000834181418\n",
      "neighbors: 14, score: 0.7043827891689884\n"
     ]
    }
   ],
   "source": [
    "Knn_grid = {\"n_neighbors\": np.arange(3, 15)}\n",
    "results_knn = []\n",
    "\n",
    "for n in range(1,15,1):\n",
    "    knn = KNeighborsClassifier(n_neighbors=n, n_jobs=-1)\n",
    "    knn.fit(X_processed_knn, y_train[\"damage_grade\"])\n",
    "    r=knn.score(X = X_processed_test_knn, y = y_test[\"damage_grade\"])\n",
    "    print(f\"neighbors: {n}, score: {r}\")\n",
    "    results_knn.append((r, n))"
   ]
  },
  {
   "cell_type": "code",
   "execution_count": 21,
   "metadata": {},
   "outputs": [
    {
     "data": {
      "text/plain": [
       "(0.7086371143996396, 10)"
      ]
     },
     "execution_count": 21,
     "metadata": {},
     "output_type": "execute_result"
    }
   ],
   "source": [
    "results_knn.sort()\n",
    "results_knn[-1]"
   ]
  },
  {
   "cell_type": "markdown",
   "metadata": {},
   "source": [
    "# Modelo 2: Random Forest Classifier\n",
    "Modelo que realiza predicciones con arboles de decisión pra luego ponderar en una predicción final"
   ]
  },
  {
   "cell_type": "markdown",
   "metadata": {},
   "source": [
    "![](https://miro.medium.com/max/5752/1*5dq_1hnqkboZTcKFfwbO9A.png)"
   ]
  },
  {
   "cell_type": "code",
   "execution_count": 22,
   "metadata": {},
   "outputs": [
    {
     "name": "stdout",
     "output_type": "stream",
     "text": [
      "estimators: 10, depth= 15, score: 0.6699310966148918\n",
      "estimators: 10, depth= 20, score: 0.6791237758387694\n",
      "estimators: 10, depth= 25, score: 0.6938721033050268\n",
      "estimators: 10, depth= 30, score: 0.6955404661405763\n",
      "estimators: 10, depth= 35, score: 0.6955237825122208\n",
      "estimators: 10, depth= 40, score: 0.6916031298486794\n",
      "estimators: 10, depth= 45, score: 0.6875656917866497\n",
      "estimators: 30, depth= 15, score: 0.6732678222859908\n",
      "estimators: 30, depth= 20, score: 0.6928544019753416\n",
      "estimators: 30, depth= 25, score: 0.7037654949198352\n",
      "estimators: 30, depth= 30, score: 0.7054505413837401\n",
      "estimators: 30, depth= 35, score: 0.7061846210313819\n",
      "estimators: 30, depth= 40, score: 0.7035986586362802\n",
      "estimators: 30, depth= 45, score: 0.7028312117319274\n",
      "estimators: 50, depth= 15, score: 0.6795074992909458\n",
      "estimators: 50, depth= 20, score: 0.694856437378001\n",
      "estimators: 50, depth= 25, score: 0.7055172758971621\n",
      "estimators: 50, depth= 30, score: 0.7101052736949232\n",
      "estimators: 50, depth= 35, score: 0.7101386409516341\n",
      "estimators: 50, depth= 40, score: 0.7081866564340413\n",
      "estimators: 50, depth= 45, score: 0.707235689617778\n",
      "estimators: 70, depth= 15, score: 0.6717662957339963\n",
      "estimators: 70, depth= 20, score: 0.694789702864579\n",
      "estimators: 70, depth= 25, score: 0.7076527803266655\n",
      "estimators: 70, depth= 30, score: 0.7124743489214034\n",
      "estimators: 70, depth= 35, score: 0.7118737383006056\n",
      "estimators: 70, depth= 40, score: 0.709254408648793\n",
      "estimators: 70, depth= 45, score: 0.7068185989088908\n",
      "estimators: 90, depth= 15, score: 0.6779392382255293\n",
      "estimators: 90, depth= 20, score: 0.6969585745507934\n",
      "estimators: 90, depth= 25, score: 0.7076861475833764\n",
      "estimators: 90, depth= 30, score: 0.7112230767947413\n",
      "estimators: 90, depth= 35, score: 0.7127746542318023\n",
      "estimators: 90, depth= 40, score: 0.7098883865263017\n",
      "estimators: 90, depth= 45, score: 0.7092377250204375\n"
     ]
    }
   ],
   "source": [
    "Forest_grid = {\n",
    "    \"n_estimators\": range(10, 100, 20),\n",
    "    \"max_depth\": range(15, 50, 5)\n",
    "}\n",
    "\n",
    "results_Forest = []\n",
    "\n",
    "for n in Forest_grid[\"n_estimators\"]:\n",
    "    for depth in Forest_grid[\"max_depth\"]:\n",
    "        RandomForest = RandomForestClassifier(n_estimators=n, max_depth=depth, n_jobs=-1)\n",
    "        RandomForest.fit(X_processed, y_train[\"damage_grade\"])\n",
    "        r=RandomForest.score(X = X_processed_test, y = y_test[\"damage_grade\"])\n",
    "        print(f\"estimators: {n}, depth= {depth}, score: {r}\")\n",
    "        results_Forest.append((r, n, depth))"
   ]
  },
  {
   "cell_type": "code",
   "execution_count": 23,
   "metadata": {},
   "outputs": [
    {
     "data": {
      "text/plain": [
       "(0.7127746542318023, 90, 35)"
      ]
     },
     "execution_count": 23,
     "metadata": {},
     "output_type": "execute_result"
    }
   ],
   "source": [
    "results_Forest.sort()\n",
    "results_Forest[-1]"
   ]
  },
  {
   "cell_type": "markdown",
   "metadata": {},
   "source": [
    "# Modelo 3: Neural Network"
   ]
  },
  {
   "cell_type": "markdown",
   "metadata": {},
   "source": [
    "Tal como cerebro, este modelo posee neuronas que se conectan a través de las distintas capas. Cada neurona se compone de una regresión lineal que recibe los outputs de sus neuronas anteriores, esta regresión lineal se busca optimizar mediante el descenso del gradiente utilizando un algoritmo de Backpropagation. Pero distintas regresiones lineales solo pueden generar una regresión lineal, es por esto que se utiliza una función de activación, que es este caso es la función logística, para generar pertubaciones que acaben con la linealidad del sistema. De modo que se obtiene un algoritmo mucho más completo."
   ]
  },
  {
   "cell_type": "markdown",
   "metadata": {},
   "source": [
    "![](https://miro.medium.com/max/1034/0*5iKh73TFB2iWT3zU)"
   ]
  },
  {
   "cell_type": "code",
   "execution_count": 24,
   "metadata": {},
   "outputs": [
    {
     "name": "stdout",
     "output_type": "stream",
     "text": [
      "For alpha 0.1, layer (5, 5) the score is 0.6103204925007091\n",
      "For alpha 0.1, layer (6, 6) the score is 0.6110545721483508\n",
      "For alpha 0.1, layer (7, 7) the score is 0.6119221208228366\n",
      "For alpha 0.0001, layer (5, 5) the score is 0.6138907889687849\n",
      "For alpha 0.0001, layer (6, 6) the score is 0.6164767513638866\n",
      "For alpha 0.0001, layer (7, 7) the score is 0.6129398221525217\n"
     ]
    }
   ],
   "source": [
    "Nn_grid = {\"alpha\" :[0.1, 0.0001],\n",
    "           \"hidden_layer_sizes\" : [(5,5), (6,6), (7,7)]\n",
    "          }\n",
    "results_nn = []\n",
    "for alpha in Nn_grid[\"alpha\"]:\n",
    "    for layer in Nn_grid[\"hidden_layer_sizes\"]:\n",
    "        clf = MLPClassifier(solver='adam',\n",
    "                            activation = \"logistic\",\n",
    "                            alpha = alpha,\n",
    "                            hidden_layer_sizes = layer,\n",
    "                            random_state=2,\n",
    "                            max_iter= 10000000,\n",
    "                            learning_rate = \"adaptive\",\n",
    "                            learning_rate_init = 0.0001)\n",
    "        clf.fit(X_processed, y_train[\"damage_grade\"])\n",
    "        r = clf.score(X_processed_test, y_test[\"damage_grade\"])\n",
    "        print(f\"For alpha {alpha}, layer {layer} the score is {r}\")\n",
    "        results_nn.append((r,alpha,layer))"
   ]
  },
  {
   "cell_type": "code",
   "execution_count": 25,
   "metadata": {},
   "outputs": [],
   "source": [
    "clf = MLPClassifier(solver='adam',\n",
    "                    activation = \"logistic\",\n",
    "                    alpha = 0.001,\n",
    "                    hidden_layer_sizes = (56,8,3),\n",
    "                    random_state=2,\n",
    "                    max_iter= 10000000,\n",
    "                    learning_rate = \"adaptive\",\n",
    "                    learning_rate_init = 0.0001)\n",
    "clf.fit(X_processed, y_train[\"damage_grade\"])\n",
    "r = clf.score(X_processed_test, y_test[\"damage_grade\"])"
   ]
  },
  {
   "cell_type": "code",
   "execution_count": 26,
   "metadata": {},
   "outputs": [
    {
     "name": "stdout",
     "output_type": "stream",
     "text": [
      "For alpha 0.001, layer (56, 8, 3) the score is 0.6712324196266204\n"
     ]
    }
   ],
   "source": [
    "results_nn.append((r, 0.1, (56, 8, 3)))\n",
    "print(f\"For alpha {0.001}, layer {(56, 8, 3)} the score is {r}\")"
   ]
  },
  {
   "cell_type": "code",
   "execution_count": 29,
   "metadata": {},
   "outputs": [
    {
     "data": {
      "text/plain": [
       "(0.6712324196266204, 0.001, (56, 8, 3))"
      ]
     },
     "execution_count": 29,
     "metadata": {},
     "output_type": "execute_result"
    }
   ],
   "source": [
    "results_nn.sort()\n",
    "results_nn[-1]"
   ]
  },
  {
   "cell_type": "markdown",
   "metadata": {},
   "source": [
    "# Modelo 4: Histogram-based Gradient Boosting Classification Tree\n",
    "Versión optimizada del modelo Modelo Gradient Boosting Classification Tree, que establece prediciones a priori débiles con árboles de decisión para luego seguir estableciendo predicciones que le dan más peso a los datos no acertados y menos peso a los datos que ya están bien clasificados, de manera que se puede acumular el aprendizaje para establecer un modelo robusto de clasificación. "
   ]
  },
  {
   "cell_type": "markdown",
   "metadata": {},
   "source": [
    "![](https://tvas.me/assets/gbt-example.png)"
   ]
  },
  {
   "cell_type": "code",
   "execution_count": 27,
   "metadata": {},
   "outputs": [
    {
     "name": "stdout",
     "output_type": "stream",
     "text": [
      "rate: 1, score: 0.6592368908390197\n",
      "rate: 0.9, score: 0.6667111563422813\n",
      "rate: 0.8, score: 0.6748193997230517\n",
      "rate: 0.7, score: 0.6748694506081182\n",
      "rate: 0.6, score: 0.6887669130282453\n",
      "rate: 0.5, score: 0.7018135104022423\n",
      "rate: 0.4, score: 0.7096881829860358\n",
      "rate: 0.3, score: 0.718663975041292\n",
      "rate: 0.2, score: 0.7209663157543502\n",
      "rate: 0.1, score: 0.7161113799029013\n",
      "rate: 0.05, score: 0.7090375214801715\n"
     ]
    }
   ],
   "source": [
    "rang=[1,.9,.8,.7,.6,.5,.4,.3,.2,.1,.05]\n",
    "results_HGBC=[]\n",
    "for rate in rang:\n",
    "    HGBC = HistGradientBoostingClassifier(max_iter=200,learning_rate=rate, random_state=1)\n",
    "    HGBC.fit(X_processed, y_train[\"damage_grade\"])\n",
    "    score=HGBC.score(X_processed_test, y_test[\"damage_grade\"])\n",
    "    print(f\"rate: {rate}, score: {score}\")\n",
    "    results_HGBC.append((score,rate))"
   ]
  },
  {
   "cell_type": "code",
   "execution_count": 28,
   "metadata": {},
   "outputs": [
    {
     "data": {
      "text/plain": [
       "(0.7209663157543502, 0.2)"
      ]
     },
     "execution_count": 28,
     "metadata": {},
     "output_type": "execute_result"
    }
   ],
   "source": [
    "results_HGBC.sort()\n",
    "results_HGBC[-1]"
   ]
  },
  {
   "cell_type": "markdown",
   "metadata": {},
   "source": [
    "# Modelos de clasificación de aprendizaje incremental\n",
    "Modelos que establecen predicciones de manera progresiva, tomando porciones de la data completa y almacenado resultados de manera acumulativa."
   ]
  },
  {
   "cell_type": "code",
   "execution_count": 29,
   "metadata": {},
   "outputs": [
    {
     "data": {
      "text/plain": [
       "0.5126211648509318"
      ]
     },
     "execution_count": 29,
     "metadata": {},
     "output_type": "execute_result"
    }
   ],
   "source": [
    "from sklearn.linear_model import Perceptron\n",
    "\n",
    "Perceptron = Perceptron()\n",
    "Perceptron.fit(X_processed, y_train[\"damage_grade\"])\n",
    "Perceptron.score(X_processed_test, y_test[\"damage_grade\"])"
   ]
  },
  {
   "cell_type": "code",
   "execution_count": 30,
   "metadata": {},
   "outputs": [
    {
     "data": {
      "text/plain": [
       "0.46128564040107445"
      ]
     },
     "execution_count": 30,
     "metadata": {},
     "output_type": "execute_result"
    }
   ],
   "source": [
    "from sklearn.linear_model import PassiveAggressiveClassifier\n",
    "\n",
    "PassiveAggressiveClassifier = PassiveAggressiveClassifier()\n",
    "PassiveAggressiveClassifier.fit(X_processed, y_train[\"damage_grade\"])\n",
    "PassiveAggressiveClassifier.score(X_processed_test, y_test[\"damage_grade\"])"
   ]
  },
  {
   "cell_type": "code",
   "execution_count": 31,
   "metadata": {},
   "outputs": [
    {
     "data": {
      "text/plain": [
       "0.2810857705333756"
      ]
     },
     "execution_count": 31,
     "metadata": {},
     "output_type": "execute_result"
    }
   ],
   "source": [
    "from sklearn.naive_bayes import MultinomialNB\n",
    "\n",
    "multi = MultinomialNB()\n",
    "multi.fit(X_processed_knn, y_train[\"damage_grade\"])\n",
    "multi.score(X_processed_test_knn, y_test[\"damage_grade\"])"
   ]
  },
  {
   "cell_type": "markdown",
   "metadata": {},
   "source": [
    "# Comparación de Resultados\n",
    "Estos son los valores de precisión  de cada modelo planteado con sus respectivos parámetros óptimos:\n",
    "* ### K-Nearest Neighbor\n",
    "Score: 0.7086371143996396, Número de vecinos: 10\n",
    "* ### Random Forest Classifier\n",
    "Score: 0.7141093445002419, Número de árboles: 90, profundidad de los árboles: 30)\n",
    "* ### Neural Network\n",
    "Score: 0.6712324196266204, 0.001, (56, 8, 3))\n",
    "* ### Histogram-based Gradient Boosting Classification Tree\n",
    "Score: 0.7209663157543502, rate: 0.2 \n",
    "* ### Perceptron\n",
    "Score: 0.5126211648509318\n",
    "* ### Passive Aggressive Classifier\n",
    "Score: 0.5334089657818782\n",
    "* ### Multinomial NB\n",
    "Score: 0.2810857705333756"
   ]
  },
  {
   "cell_type": "markdown",
   "metadata": {},
   "source": [
    "# Conclusiones\n",
    "El modelo que mejor clasifica este conjunto de dato es el Histogram-based Gradient Boosting Classification Tree, aunque al ser un modelo en fase experimental puede ser arriesgado seleccionarlo, una elección más conservadora de mejor modelo clasificador sería Random Forest Classifier, que aunque es el modelo que más tiempo de ejecución toma, es bastante bueno para sobrellevar el overfitting gracias a su aleatoriedad.\n",
    "\n",
    "¿Es posible extrapolar esto? Con un score de 0.7 consideramos que es lo suficientemente bueno para realizar una extrapolación. Pero para poder hacer una extrapolación realmente adecuada, sería necesario realizar este análisis para distintos terremotos a lo largo del mundo y además de tener datos Geoestadísticos más detallados."
   ]
  }
 ],
 "metadata": {
  "kernelspec": {
   "display_name": "Python 3",
   "language": "python",
   "name": "python3"
  },
  "language_info": {
   "codemirror_mode": {
    "name": "ipython",
    "version": 3
   },
   "file_extension": ".py",
   "mimetype": "text/x-python",
   "name": "python",
   "nbconvert_exporter": "python",
   "pygments_lexer": "ipython3",
   "version": "3.7.8"
  }
 },
 "nbformat": 4,
 "nbformat_minor": 4
}
