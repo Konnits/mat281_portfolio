{
 "cells": [
  {
   "cell_type": "markdown",
   "metadata": {},
   "source": [
    "# MAT281 - Tarea 2"
   ]
  },
  {
   "cell_type": "markdown",
   "metadata": {},
   "source": [
    "**Indicaciones**:\n",
    "\n",
    "* En los **Ejercicio 1-8** puedes utilizar tanto `matplotlib` como `altair` según te parezca más conveniente o cómodo, en ambos casos cada gráfico debe tener elementos mínimos como:\n",
    "    - Título\n",
    "    - Nombre de los ejes, leyendas, etc. en formato _amigable_/_humano_, por ejemplo, si la columna del dataframe en cuestión tiene por nombre `casos_confirmados` se espera que el eje del gráfico tenga por nombre `Casos confirmados`.\n",
    "    - Colores adecuados al tipo de datos.\n",
    "    - Un tamaño adecuado para ver con facilidad en una pantalla con resolución HD o FullHD.\n",
    "    - Cada vez que no se cumplan alguna de estos requerimientos se descontará __1 punto__ de la nota final.\n",
    "\n",
    "* Para el **Ejercicio 9** es obligación utilizar `altair`.\n",
    "* Cada ejercicio debe estar acompañado con una celda con comentarios o análisis que puedas desprender de los gráficos."
   ]
  },
  {
   "cell_type": "code",
   "execution_count": 34,
   "metadata": {},
   "outputs": [],
   "source": [
    "import numpy as np\n",
    "import pandas as pd\n",
    "import matplotlib.pyplot as plt\n",
    "import altair as alt\n",
    "import ipywidgets as widgets\n",
    "\n",
    "from datetime import date\n",
    "from ipywidgets import interactive, interact\n",
    "\n",
    "pd.set_option('display.max_columns', 999)\n",
    "#alt.data_transformers.enable('data_server')\n",
    "alt.data_transformers.disable_max_rows()\n",
    "alt.themes.enable('opaque')\n",
    "\n",
    "%matplotlib inline"
   ]
  },
  {
   "cell_type": "markdown",
   "metadata": {},
   "source": [
    "**COVID-19 en Chile** \n",
    "\n",
    "En esta tarea exploraremos los datos de Covid-19 en Chile a profundidad. Las siguientes celdas cargarán los datos a utilizar en tu sesión. Es importante que leas la documentación de cada conjunto de datos para comprender las columnas."
   ]
  },
  {
   "cell_type": "code",
   "execution_count": 2,
   "metadata": {},
   "outputs": [],
   "source": [
    "start_date = pd.to_datetime(\"2020-04-13\")"
   ]
  },
  {
   "cell_type": "code",
   "execution_count": 3,
   "metadata": {},
   "outputs": [
    {
     "data": {
      "text/html": [
       "<div>\n",
       "<style scoped>\n",
       "    .dataframe tbody tr th:only-of-type {\n",
       "        vertical-align: middle;\n",
       "    }\n",
       "\n",
       "    .dataframe tbody tr th {\n",
       "        vertical-align: top;\n",
       "    }\n",
       "\n",
       "    .dataframe thead th {\n",
       "        text-align: right;\n",
       "    }\n",
       "</style>\n",
       "<table border=\"1\" class=\"dataframe\">\n",
       "  <thead>\n",
       "    <tr style=\"text-align: right;\">\n",
       "      <th></th>\n",
       "      <th>poblacion</th>\n",
       "      <th>casos_confirmados</th>\n",
       "      <th>fecha</th>\n",
       "      <th>region_id</th>\n",
       "      <th>region</th>\n",
       "      <th>provincia_id</th>\n",
       "      <th>provincia</th>\n",
       "      <th>comuna_id</th>\n",
       "      <th>comuna</th>\n",
       "      <th>tasa</th>\n",
       "    </tr>\n",
       "  </thead>\n",
       "  <tbody>\n",
       "    <tr>\n",
       "      <th>0</th>\n",
       "      <td>247552.0</td>\n",
       "      <td>270.0</td>\n",
       "      <td>2020-04-27</td>\n",
       "      <td>15.0</td>\n",
       "      <td>Arica y Parinacota</td>\n",
       "      <td>151.0</td>\n",
       "      <td>Arica</td>\n",
       "      <td>15101.0</td>\n",
       "      <td>Arica</td>\n",
       "      <td>109.067994</td>\n",
       "    </tr>\n",
       "    <tr>\n",
       "      <th>1</th>\n",
       "      <td>247552.0</td>\n",
       "      <td>9138.0</td>\n",
       "      <td>2020-10-12</td>\n",
       "      <td>15.0</td>\n",
       "      <td>Arica y Parinacota</td>\n",
       "      <td>151.0</td>\n",
       "      <td>Arica</td>\n",
       "      <td>15101.0</td>\n",
       "      <td>Arica</td>\n",
       "      <td>3691.345657</td>\n",
       "    </tr>\n",
       "    <tr>\n",
       "      <th>2</th>\n",
       "      <td>247552.0</td>\n",
       "      <td>596.0</td>\n",
       "      <td>2020-05-29</td>\n",
       "      <td>15.0</td>\n",
       "      <td>Arica y Parinacota</td>\n",
       "      <td>151.0</td>\n",
       "      <td>Arica</td>\n",
       "      <td>15101.0</td>\n",
       "      <td>Arica</td>\n",
       "      <td>240.757497</td>\n",
       "    </tr>\n",
       "    <tr>\n",
       "      <th>3</th>\n",
       "      <td>247552.0</td>\n",
       "      <td>6131.0</td>\n",
       "      <td>2020-08-17</td>\n",
       "      <td>15.0</td>\n",
       "      <td>Arica y Parinacota</td>\n",
       "      <td>151.0</td>\n",
       "      <td>Arica</td>\n",
       "      <td>15101.0</td>\n",
       "      <td>Arica</td>\n",
       "      <td>2476.651370</td>\n",
       "    </tr>\n",
       "    <tr>\n",
       "      <th>4</th>\n",
       "      <td>247552.0</td>\n",
       "      <td>353.0</td>\n",
       "      <td>2020-05-11</td>\n",
       "      <td>15.0</td>\n",
       "      <td>Arica y Parinacota</td>\n",
       "      <td>151.0</td>\n",
       "      <td>Arica</td>\n",
       "      <td>15101.0</td>\n",
       "      <td>Arica</td>\n",
       "      <td>142.596303</td>\n",
       "    </tr>\n",
       "  </tbody>\n",
       "</table>\n",
       "</div>"
      ],
      "text/plain": [
       "   poblacion  casos_confirmados      fecha  region_id              region  \\\n",
       "0   247552.0              270.0 2020-04-27       15.0  Arica y Parinacota   \n",
       "1   247552.0             9138.0 2020-10-12       15.0  Arica y Parinacota   \n",
       "2   247552.0              596.0 2020-05-29       15.0  Arica y Parinacota   \n",
       "3   247552.0             6131.0 2020-08-17       15.0  Arica y Parinacota   \n",
       "4   247552.0              353.0 2020-05-11       15.0  Arica y Parinacota   \n",
       "\n",
       "   provincia_id provincia  comuna_id comuna         tasa  \n",
       "0         151.0     Arica    15101.0  Arica   109.067994  \n",
       "1         151.0     Arica    15101.0  Arica  3691.345657  \n",
       "2         151.0     Arica    15101.0  Arica   240.757497  \n",
       "3         151.0     Arica    15101.0  Arica  2476.651370  \n",
       "4         151.0     Arica    15101.0  Arica   142.596303  "
      ]
     },
     "metadata": {},
     "output_type": "display_data"
    }
   ],
   "source": [
    "# https://github.com/MinCiencia/Datos-COVID19/tree/master/output/producto6\n",
    "confirmados = (\n",
    "    pd.read_csv(\"https://raw.githubusercontent.com/MinCiencia/Datos-COVID19/master/output/producto6/bulk/data.csv\")\n",
    "    .rename(columns=lambda x: x.lower().replace(\" \", \"_\"))\n",
    "    .assign(fecha=lambda x: pd.to_datetime(x[\"fecha\"]))\n",
    "    .loc[lambda x: x[\"fecha\"] >= start_date]\n",
    "    .dropna()\n",
    "    .astype({\"casos_confirmados\": np.float, \"tasa\": np.float})\n",
    ")\n",
    "display(confirmados.head())"
   ]
  },
  {
   "cell_type": "code",
   "execution_count": 4,
   "metadata": {},
   "outputs": [],
   "source": [
    "# https://github.com/MinCiencia/Datos-COVID19/tree/master/output/producto19\n",
    "activos = (\n",
    "    pd.read_csv(\"https://raw.githubusercontent.com/MinCiencia/Datos-COVID19/master/output/producto19/CasosActivosPorComuna.csv\")\n",
    "    .rename(columns=lambda x: x.lower().replace(\" \", \"_\"))\n",
    "    .loc[lambda x: x[\"codigo_comuna\"].notnull()]\n",
    "    .melt(id_vars=[\"region\", \"codigo_region\", \"comuna\", \"codigo_comuna\", \"poblacion\"], var_name=\"fecha\", value_name=\"casos_activos\")\n",
    "    .assign(fecha=lambda x: pd.to_datetime(x[\"fecha\"]))\n",
    "    .loc[lambda x: x[\"fecha\"] >= start_date]\n",
    ")\n"
   ]
  },
  {
   "cell_type": "code",
   "execution_count": 5,
   "metadata": {},
   "outputs": [
    {
     "data": {
      "text/html": [
       "<div>\n",
       "<style scoped>\n",
       "    .dataframe tbody tr th:only-of-type {\n",
       "        vertical-align: middle;\n",
       "    }\n",
       "\n",
       "    .dataframe tbody tr th {\n",
       "        vertical-align: top;\n",
       "    }\n",
       "\n",
       "    .dataframe thead th {\n",
       "        text-align: right;\n",
       "    }\n",
       "</style>\n",
       "<table border=\"1\" class=\"dataframe\">\n",
       "  <thead>\n",
       "    <tr style=\"text-align: right;\">\n",
       "      <th></th>\n",
       "      <th>region</th>\n",
       "      <th>fecha</th>\n",
       "      <th>fallecidos</th>\n",
       "    </tr>\n",
       "  </thead>\n",
       "  <tbody>\n",
       "    <tr>\n",
       "      <th>374</th>\n",
       "      <td>Arica y Parinacota</td>\n",
       "      <td>2020-04-13</td>\n",
       "      <td>1.0</td>\n",
       "    </tr>\n",
       "    <tr>\n",
       "      <th>375</th>\n",
       "      <td>Tarapacá</td>\n",
       "      <td>2020-04-13</td>\n",
       "      <td>0.0</td>\n",
       "    </tr>\n",
       "    <tr>\n",
       "      <th>376</th>\n",
       "      <td>Antofagasta</td>\n",
       "      <td>2020-04-13</td>\n",
       "      <td>1.0</td>\n",
       "    </tr>\n",
       "    <tr>\n",
       "      <th>377</th>\n",
       "      <td>Atacama</td>\n",
       "      <td>2020-04-13</td>\n",
       "      <td>0.0</td>\n",
       "    </tr>\n",
       "    <tr>\n",
       "      <th>378</th>\n",
       "      <td>Coquimbo</td>\n",
       "      <td>2020-04-13</td>\n",
       "      <td>0.0</td>\n",
       "    </tr>\n",
       "  </tbody>\n",
       "</table>\n",
       "</div>"
      ],
      "text/plain": [
       "                 region      fecha  fallecidos\n",
       "374  Arica y Parinacota 2020-04-13         1.0\n",
       "375            Tarapacá 2020-04-13         0.0\n",
       "376         Antofagasta 2020-04-13         1.0\n",
       "377             Atacama 2020-04-13         0.0\n",
       "378            Coquimbo 2020-04-13         0.0"
      ]
     },
     "execution_count": 5,
     "metadata": {},
     "output_type": "execute_result"
    }
   ],
   "source": [
    "# https://github.com/MinCiencia/Datos-COVID19/tree/master/output/producto14\n",
    "fallecidos = (\n",
    "    pd.read_csv(\"https://raw.githubusercontent.com/MinCiencia/Datos-COVID19/master/output/producto14/FallecidosCumulativo.csv\")\n",
    "    .rename(columns=lambda x: x.lower().replace(\" \", \"_\"))\n",
    "    .melt(id_vars=[\"region\"], var_name=\"fecha\", value_name=\"fallecidos\")\n",
    "    .assign(\n",
    "        fecha=lambda x: pd.to_datetime(x[\"fecha\"]),\n",
    "    )\n",
    "    .loc[lambda x: x[\"fecha\"] >= start_date]\n",
    ")\n",
    "\n",
    "fallecidos.head()"
   ]
  },
  {
   "cell_type": "code",
   "execution_count": 6,
   "metadata": {},
   "outputs": [
    {
     "data": {
      "text/html": [
       "<div>\n",
       "<style scoped>\n",
       "    .dataframe tbody tr th:only-of-type {\n",
       "        vertical-align: middle;\n",
       "    }\n",
       "\n",
       "    .dataframe tbody tr th {\n",
       "        vertical-align: top;\n",
       "    }\n",
       "\n",
       "    .dataframe thead th {\n",
       "        text-align: right;\n",
       "    }\n",
       "</style>\n",
       "<table border=\"1\" class=\"dataframe\">\n",
       "  <thead>\n",
       "    <tr style=\"text-align: right;\">\n",
       "      <th></th>\n",
       "      <th>grupo_de_edad</th>\n",
       "      <th>fecha</th>\n",
       "      <th>fallecidos</th>\n",
       "    </tr>\n",
       "  </thead>\n",
       "  <tbody>\n",
       "    <tr>\n",
       "      <th>28</th>\n",
       "      <td>0-39</td>\n",
       "      <td>2020-04-13</td>\n",
       "      <td>3</td>\n",
       "    </tr>\n",
       "    <tr>\n",
       "      <th>29</th>\n",
       "      <td>40-49</td>\n",
       "      <td>2020-04-13</td>\n",
       "      <td>2</td>\n",
       "    </tr>\n",
       "    <tr>\n",
       "      <th>30</th>\n",
       "      <td>50-59</td>\n",
       "      <td>2020-04-13</td>\n",
       "      <td>3</td>\n",
       "    </tr>\n",
       "    <tr>\n",
       "      <th>31</th>\n",
       "      <td>60-69</td>\n",
       "      <td>2020-04-13</td>\n",
       "      <td>12</td>\n",
       "    </tr>\n",
       "    <tr>\n",
       "      <th>32</th>\n",
       "      <td>70-79</td>\n",
       "      <td>2020-04-13</td>\n",
       "      <td>29</td>\n",
       "    </tr>\n",
       "  </tbody>\n",
       "</table>\n",
       "</div>"
      ],
      "text/plain": [
       "   grupo_de_edad      fecha  fallecidos\n",
       "28          0-39 2020-04-13           3\n",
       "29         40-49 2020-04-13           2\n",
       "30         50-59 2020-04-13           3\n",
       "31         60-69 2020-04-13          12\n",
       "32         70-79 2020-04-13          29"
      ]
     },
     "execution_count": 6,
     "metadata": {},
     "output_type": "execute_result"
    }
   ],
   "source": [
    "# https://github.com/MinCiencia/Datos-COVID19/tree/master/output/producto10\n",
    "fallecidos_etareo = (\n",
    "    pd.read_csv(\"https://raw.githubusercontent.com/MinCiencia/Datos-COVID19/master/output/producto10/FallecidosEtario.csv\")\n",
    "    .rename(columns=lambda x: x.lower().replace(\" \", \"_\"))\n",
    "    .melt(id_vars=[\"grupo_de_edad\"], var_name=\"fecha\", value_name=\"fallecidos\")\n",
    "    .assign(\n",
    "        fecha=lambda x: pd.to_datetime(x[\"fecha\"]),\n",
    "        grupo_de_edad=lambda x: x[\"grupo_de_edad\"].str.replace(\"<=39\", \"0-39\")\n",
    "    )\n",
    "    .loc[lambda x: x[\"fecha\"] >= start_date]\n",
    ")\n",
    "\n",
    "fallecidos_etareo.head()"
   ]
  },
  {
   "cell_type": "markdown",
   "metadata": {},
   "source": [
    "## Ejercicio 1\n",
    "\n",
    "(10 puntos)\n",
    "\n",
    "Mostrar cantidad de fallecidos la fecha por cada grupo etáreo."
   ]
  },
  {
   "cell_type": "code",
   "execution_count": 7,
   "metadata": {},
   "outputs": [
    {
     "data": {
      "text/html": [
       "<div>\n",
       "<style scoped>\n",
       "    .dataframe tbody tr th:only-of-type {\n",
       "        vertical-align: middle;\n",
       "    }\n",
       "\n",
       "    .dataframe tbody tr th {\n",
       "        vertical-align: top;\n",
       "    }\n",
       "\n",
       "    .dataframe thead th {\n",
       "        text-align: right;\n",
       "    }\n",
       "</style>\n",
       "<table border=\"1\" class=\"dataframe\">\n",
       "  <thead>\n",
       "    <tr style=\"text-align: right;\">\n",
       "      <th></th>\n",
       "      <th>fallecidos</th>\n",
       "    </tr>\n",
       "    <tr>\n",
       "      <th>grupo_de_edad</th>\n",
       "      <th></th>\n",
       "    </tr>\n",
       "  </thead>\n",
       "  <tbody>\n",
       "    <tr>\n",
       "      <th>0-39</th>\n",
       "      <td>43042</td>\n",
       "    </tr>\n",
       "    <tr>\n",
       "      <th>40-49</th>\n",
       "      <td>65440</td>\n",
       "    </tr>\n",
       "    <tr>\n",
       "      <th>50-59</th>\n",
       "      <td>195061</td>\n",
       "    </tr>\n",
       "    <tr>\n",
       "      <th>60-69</th>\n",
       "      <td>406929</td>\n",
       "    </tr>\n",
       "    <tr>\n",
       "      <th>70-79</th>\n",
       "      <td>545399</td>\n",
       "    </tr>\n",
       "    <tr>\n",
       "      <th>80-89</th>\n",
       "      <td>492464</td>\n",
       "    </tr>\n",
       "    <tr>\n",
       "      <th>&gt;=90</th>\n",
       "      <td>176174</td>\n",
       "    </tr>\n",
       "  </tbody>\n",
       "</table>\n",
       "</div>"
      ],
      "text/plain": [
       "               fallecidos\n",
       "grupo_de_edad            \n",
       "0-39                43042\n",
       "40-49               65440\n",
       "50-59              195061\n",
       "60-69              406929\n",
       "70-79              545399\n",
       "80-89              492464\n",
       ">=90               176174"
      ]
     },
     "metadata": {},
     "output_type": "display_data"
    }
   ],
   "source": [
    "display(fallecidos_etareo.groupby([\"grupo_de_edad\"]).sum())"
   ]
  },
  {
   "cell_type": "markdown",
   "metadata": {},
   "source": [
    "**Comentarios:** Podemos ver que la mayor cantidad de fallecidos se concentra en personas mayores de 50 años. Que son teóricamente el grupo de mayor riesgo."
   ]
  },
  {
   "cell_type": "markdown",
   "metadata": {},
   "source": [
    "## Ejercicio 2\n",
    "\n",
    "(10 puntos)\n",
    "\n",
    "¿Qué tan variable es la población de las comunas de Chile? Considera utilizar un gráfico que resuma de buena forma la información sin agregar la variable de región o provincia."
   ]
  },
  {
   "cell_type": "code",
   "execution_count": 8,
   "metadata": {},
   "outputs": [
    {
     "data": {
      "text/html": [
       "<div>\n",
       "<style scoped>\n",
       "    .dataframe tbody tr th:only-of-type {\n",
       "        vertical-align: middle;\n",
       "    }\n",
       "\n",
       "    .dataframe tbody tr th {\n",
       "        vertical-align: top;\n",
       "    }\n",
       "\n",
       "    .dataframe thead th {\n",
       "        text-align: right;\n",
       "    }\n",
       "</style>\n",
       "<table border=\"1\" class=\"dataframe\">\n",
       "  <thead>\n",
       "    <tr style=\"text-align: right;\">\n",
       "      <th></th>\n",
       "      <th>comuna</th>\n",
       "      <th>poblacion</th>\n",
       "    </tr>\n",
       "  </thead>\n",
       "  <tbody>\n",
       "    <tr>\n",
       "      <th>0</th>\n",
       "      <td>Arica</td>\n",
       "      <td>247552.0</td>\n",
       "    </tr>\n",
       "    <tr>\n",
       "      <th>1</th>\n",
       "      <td>Camarones</td>\n",
       "      <td>1233.0</td>\n",
       "    </tr>\n",
       "    <tr>\n",
       "      <th>2</th>\n",
       "      <td>General Lagos</td>\n",
       "      <td>810.0</td>\n",
       "    </tr>\n",
       "    <tr>\n",
       "      <th>3</th>\n",
       "      <td>Putre</td>\n",
       "      <td>2515.0</td>\n",
       "    </tr>\n",
       "    <tr>\n",
       "      <th>4</th>\n",
       "      <td>Alto Hospicio</td>\n",
       "      <td>129999.0</td>\n",
       "    </tr>\n",
       "  </tbody>\n",
       "</table>\n",
       "</div>"
      ],
      "text/plain": [
       "          comuna  poblacion\n",
       "0          Arica   247552.0\n",
       "1      Camarones     1233.0\n",
       "2  General Lagos      810.0\n",
       "3          Putre     2515.0\n",
       "4  Alto Hospicio   129999.0"
      ]
     },
     "execution_count": 8,
     "metadata": {},
     "output_type": "execute_result"
    }
   ],
   "source": [
    "comunas_ = activos[\"comuna\"].unique()\n",
    "com_aux = {\"comuna\": [], \"poblacion\": []}\n",
    "for comuna_ in comunas_:\n",
    "    if comuna_ not in com_aux[\"comuna\"]:\n",
    "        com_aux[\"comuna\"].append(comuna_)\n",
    "        pob = activos.query(f'comuna == \"{comuna_}\"')[\"poblacion\"].unique()[0]\n",
    "        com_aux[\"poblacion\"].append(pob)\n",
    "com_aux = pd.DataFrame(com_aux)\n",
    "com_aux.head()"
   ]
  },
  {
   "cell_type": "code",
   "execution_count": 9,
   "metadata": {},
   "outputs": [],
   "source": [
    "x_max = com_aux[\"poblacion\"].max()\n",
    "x_min = com_aux[\"poblacion\"].min()\n",
    "n = 150\n",
    "X = np.linspace(x_min, x_max, n)\n",
    "Y = []\n",
    "for x in X:\n",
    "    Y.append(com_aux.query(f\"poblacion <= {x}\").count()[0]/346)\n",
    "Y = np.array(Y)"
   ]
  },
  {
   "cell_type": "code",
   "execution_count": 10,
   "metadata": {},
   "outputs": [
    {
     "data": {
      "image/png": "[encoded data removed]",
      "text/plain": [
       "<Figure size 1152x648 with 1 Axes>"
      ]
     },
     "metadata": {
      "needs_background": "light"
     },
     "output_type": "display_data"
    }
   ],
   "source": [
    "plt.figure(figsize = (16,9))\n",
    "plt.scatter(X,Y, alpha = 0.5)\n",
    "plt.xlabel(\"Población\")\n",
    "plt.ylabel(\"Porcentaje de comunas con poblacion menor o igual a\")\n",
    "plt.title(\"Poblacion acumulada v/s \")\n",
    "plt.show()"
   ]
  },
  {
   "cell_type": "code",
   "execution_count": 11,
   "metadata": {},
   "outputs": [
    {
     "name": "stdout",
     "output_type": "stream",
     "text": [
      "Varianza: 88817.34 \n",
      "Media: 56237.89\n"
     ]
    }
   ],
   "source": [
    "std = round(np.std(com_aux[\"poblacion\"]), 2)\n",
    "mean = round(np.mean(com_aux[\"poblacion\"]), 2)\n",
    "print(f\"Varianza: {std} \\nMedia: {mean}\")"
   ]
  },
  {
   "cell_type": "markdown",
   "metadata": {},
   "source": [
    "**Comentarios:** La varianza nos indica que la variabilidad es alta, lo mismo que el gráfico nos dice, pues a partir de los 100.000 habitantes la curva es muy poco pronunciada, pero aún hay un 20% de comunas que tienen más de 100.000 habitantes. Y el gráfico no termina hasta los 600.000, por lo que si bien hay pocas comunas con más de esta cantidad de habitantes, la poblacion que tienen supera por mucho los 100.000"
   ]
  },
  {
   "cell_type": "markdown",
   "metadata": {},
   "source": [
    "## Ejercicio 3\n",
    "\n",
    "(10 puntos)\n",
    "\n",
    "Mostrar evolución y comparación de los fallecimientos entre distintos grupos etáreos, pero que al mismo tiempo sea fácil identificar la cantidad de fallecidos total en cada fecha."
   ]
  },
  {
   "cell_type": "code",
   "execution_count": 12,
   "metadata": {},
   "outputs": [
    {
     "data": {
      "text/html": [
       "\n",
       "<div id=\"altair-viz-ee2b15452f42467993777f615b4c4577\"></div>\n",
       "<script type=\"text/javascript\">\n",
       "  (function(spec, embedOpt){\n",
       "    let outputDiv = document.currentScript.previousElementSibling;\n",
       "    if (outputDiv.id !== \"altair-viz-ee2b15452f42467993777f615b4c4577\") {\n",
       "      outputDiv = document.getElementById(\"altair-viz-ee2b15452f42467993777f615b4c4577\");\n",
       "    }\n",
       "    const paths = {\n",
       "      \"vega\": \"https://cdn.jsdelivr.net/npm//vega@5?noext\",\n",
       "      \"vega-lib\": \"https://cdn.jsdelivr.net/npm//vega-lib?noext\",\n",
       "      \"vega-lite\": \"https://cdn.jsdelivr.net/npm//vega-lite@4.8.1?noext\",\n",
       "      \"vega-embed\": \"https://cdn.jsdelivr.net/npm//vega-embed@6?noext\",\n",
       "    };\n",
       "\n",
       "    function loadScript(lib) {\n",
       "      return new Promise(function(resolve, reject) {\n",
       "        var s = document.createElement('script');\n",
       "        s.src = paths[lib];\n",
       "        s.async = true;\n",
       "        s.onload = () => resolve(paths[lib]);\n",
       "        s.onerror = () => reject(`Error loading script: ${paths[lib]}`);\n",
       "        document.getElementsByTagName(\"head\")[0].appendChild(s);\n",
       "      });\n",
       "    }\n",
       "\n",
       "    function showError(err) {\n",
       "      outputDiv.innerHTML = `<div class=\"error\" style=\"color:red;\">${err}</div>`;\n",
       "      throw err;\n",
       "    }\n",
       "\n",
       "    function displayChart(vegaEmbed) {\n",
       "      vegaEmbed(outputDiv, spec, embedOpt)\n",
       "        .catch(err => showError(`Javascript Error: ${err.message}<br>This usually means there's a typo in your chart specification. See the javascript console for the full traceback.`));\n",
       "    }\n",
       "\n",
       "    if(typeof define === \"function\" && define.amd) {\n",
       "      requirejs.config({paths});\n",
       "      require([\"vega-embed\"], displayChart, err => showError(`Error loading script: ${err.message}`));\n",
       "    } else if (typeof vegaEmbed === \"function\") {\n",
       "      displayChart(vegaEmbed);\n",
       "    } else {\n",
       "      loadScript(\"vega\")\n",
       "        .then(() => loadScript(\"vega-lite\"))\n",
       "        .then(() => loadScript(\"vega-embed\"))\n",
       "        .catch(showError)\n",
       "        .then(() => displayChart(vegaEmbed));\n",
       "    }\n",
       "  })({\"config\": {\"background\": \"white\", \"view\": {\"continuousWidth\": 400, \"continuousHeight\": 300}}, \"layer\": [{\"mark\": {\"type\": \"line\", \"interpolate\": \"basis\"}, \"encoding\": {\"color\": {\"type\": \"nominal\", \"field\": \"grupo_de_edad\"}, \"x\": {\"type\": \"temporal\", \"field\": \"fecha\"}, \"y\": {\"type\": \"quantitative\", \"field\": \"fallecidos\"}}, \"selection\": {\"selector001\": {\"type\": \"interval\", \"bind\": \"scales\", \"encodings\": [\"x\", \"y\"]}}}, {\"mark\": \"point\", \"encoding\": {\"opacity\": {\"value\": 0}, \"x\": {\"type\": \"temporal\", \"field\": \"fecha\"}}, \"selection\": {\"line_\": {\"type\": \"single\", \"nearest\": true, \"on\": \"mouseover\", \"fields\": [\"fecha\"], \"empty\": \"none\"}}}, {\"mark\": \"point\", \"encoding\": {\"color\": {\"type\": \"nominal\", \"field\": \"grupo_de_edad\"}, \"opacity\": {\"condition\": {\"value\": 1, \"selection\": \"line_\"}, \"value\": 0}, \"x\": {\"type\": \"temporal\", \"field\": \"fecha\"}, \"y\": {\"type\": \"quantitative\", \"field\": \"fallecidos\"}}}, {\"mark\": {\"type\": \"rule\", \"color\": \"gray\"}, \"encoding\": {\"x\": {\"type\": \"temporal\", \"field\": \"fecha\"}}, \"transform\": [{\"filter\": {\"selection\": \"line_\"}}]}, {\"mark\": {\"type\": \"text\", \"align\": \"left\", \"dx\": 5, \"dy\": -5}, \"encoding\": {\"color\": {\"type\": \"nominal\", \"field\": \"grupo_de_edad\"}, \"text\": {\"condition\": {\"type\": \"quantitative\", \"field\": \"fallecidos\", \"selection\": \"line_\"}, \"value\": \" \"}, \"x\": {\"type\": \"temporal\", \"field\": \"fecha\"}, \"y\": {\"type\": \"quantitative\", \"field\": \"fallecidos\"}}}, {\"mark\": {\"type\": \"text\", \"align\": \"left\", \"baseline\": \"top\", \"fontSize\": 20, \"fontWeight\": \"lighter\"}, \"encoding\": {\"text\": {\"type\": \"quantitative\", \"aggregate\": \"sum\", \"field\": \"fallecidos\"}, \"x\": {\"value\": 65}, \"y\": {\"value\": 5}}, \"transform\": [{\"filter\": {\"selection\": \"line_\"}}]}, {\"mark\": {\"type\": \"text\", \"align\": \"left\", \"baseline\": \"top\", \"fontSize\": 20, \"fontWeight\": \"lighter\"}, \"encoding\": {\"text\": {\"type\": \"temporal\", \"field\": \"fecha\"}, \"x\": {\"value\": 67}, \"y\": {\"value\": 30}}, \"transform\": [{\"filter\": {\"selection\": \"line_\"}}]}, {\"mark\": {\"type\": \"text\", \"align\": \"left\", \"baseline\": \"top\", \"fontSize\": 20, \"fontWeight\": \"lighter\", \"text\": \"Total:\"}, \"encoding\": {\"x\": {\"value\": 5}, \"y\": {\"value\": 5}}}, {\"mark\": {\"type\": \"text\", \"align\": \"left\", \"baseline\": \"top\", \"fontSize\": 20, \"fontWeight\": \"lighter\", \"text\": \"Fecha:\"}, \"encoding\": {\"x\": {\"value\": 5}, \"y\": {\"value\": 30}}}], \"data\": {\"url\": \"http://localhost:20755/1095ab8803c7f107926b8196ccfeb092.json\"}, \"height\": 378, \"title\": \"Fallecidos v/s Fecha\", \"width\": 672, \"$schema\": \"https://vega.github.io/schema/vega-lite/v4.8.1.json\"}, {\"mode\": \"vega-lite\"});\n",
       "</script>"
      ],
      "text/plain": [
       "alt.LayerChart(...)"
      ]
     },
     "execution_count": 12,
     "metadata": {},
     "output_type": "execute_result"
    }
   ],
   "source": [
    "nearest = alt.selection(type='single', nearest=True, on='mouseover',\n",
    "                        fields=['fecha'], empty='none', name='line_')\n",
    "\n",
    "line = alt.Chart(fallecidos_etareo).mark_line(interpolate='basis').encode(\n",
    "    x='fecha',\n",
    "    y = alt.Y('fallecidos'),\n",
    "    color='grupo_de_edad'\n",
    ")\n",
    "\n",
    "selectors = alt.Chart(fallecidos_etareo).mark_point().encode(\n",
    "    x='fecha',\n",
    "    opacity=alt.value(0),\n",
    ").add_selection(\n",
    "    nearest\n",
    ")\n",
    "\n",
    "points = line.mark_point().encode(\n",
    "    opacity=alt.condition(nearest, alt.value(1), alt.value(0))\n",
    ")\n",
    "\n",
    "text = line.mark_text(align='left', dx=5, dy=-5).encode(\n",
    "    text=alt.condition(nearest, 'fallecidos:Q', alt.value(' '))\n",
    ")\n",
    "\n",
    "rules = alt.Chart(fallecidos_etareo).mark_rule(color='gray').encode(\n",
    "    x='fecha',\n",
    ").transform_filter(\n",
    "    nearest\n",
    ")\n",
    "tam = 42\n",
    "graph = alt.layer(\n",
    "    line, selectors, points, rules, text\n",
    ").properties(\n",
    "    title='Fallecidos v/s Fecha',\n",
    "    width=16*tam, height=9*tam\n",
    ").interactive()\n",
    "\n",
    "text_suma = alt.Chart(fallecidos_etareo).transform_filter(nearest).mark_text(\n",
    "    fontSize=20, fontWeight='lighter',\n",
    "    align='left',\n",
    "    baseline='top',\n",
    ").encode(\n",
    "    x=alt.value(65),\n",
    "    y=alt.value(5),\n",
    "    text=alt.Text('sum(fallecidos)'),\n",
    ")\n",
    "\n",
    "text_fecha = alt.Chart(fallecidos_etareo).transform_filter(nearest).mark_text(\n",
    "    fontSize=20, fontWeight='lighter',\n",
    "    align='left',\n",
    "    baseline='top',\n",
    ").encode(\n",
    "    x=alt.value(67),\n",
    "    y=alt.value(30),\n",
    "    text=alt.Text('fecha'),\n",
    ")\n",
    "\n",
    "suma = alt.Chart(fallecidos_etareo).mark_text(\n",
    "    fontSize=20, fontWeight='lighter',\n",
    "    text='Total:',\n",
    "    align='left',\n",
    "    baseline='top',\n",
    ").encode(\n",
    "    x=alt.value(5),\n",
    "    y=alt.value(5)\n",
    ")\n",
    "\n",
    "fecha = alt.Chart(fallecidos_etareo).mark_text(\n",
    "    fontSize=20, fontWeight='lighter',\n",
    "    text='Fecha:',\n",
    "    align='left',\n",
    "    baseline='top',\n",
    ").encode(\n",
    "    x=alt.value(5),\n",
    "    y=alt.value(30)\n",
    ")\n",
    "\n",
    "(graph + text_suma + text_fecha + suma + fecha)"
   ]
  },
  {
   "cell_type": "markdown",
   "metadata": {},
   "source": [
    "**Comentarios:** El gráfico es interactivo para ver los datos que están muy juntos. Podemos ver que los dos grupos menos afectados son 0-39 y 40-49. Y ratificar lo que antes habíamos visto, que los grupos etáreos de mayor riesgo, son los que más altos están en la gráfica."
   ]
  },
  {
   "cell_type": "markdown",
   "metadata": {},
   "source": [
    "## Ejercicio 4\n",
    "\n",
    "(10 puntos)\n",
    "\n",
    "Mostrar en tres gráficos la evolución de casos confirmados, evolución de fallecimientos y evolución de casos activos."
   ]
  },
  {
   "cell_type": "code",
   "execution_count": 13,
   "metadata": {},
   "outputs": [],
   "source": [
    "conf = (confirmados.\n",
    "        drop([\"poblacion\", \"region_id\", \"region\", \"provincia_id\", \"provincia\", \"comuna_id\", \"comuna\", \"tasa\"], axis = 1))\n",
    "fall = fallecidos.drop([\"region\"], axis = 1)\n",
    "acti = activos.drop([\"region\", \"codigo_region\", \"comuna\", \"codigo_comuna\", \"poblacion\"], axis = 1)"
   ]
  },
  {
   "cell_type": "code",
   "execution_count": 14,
   "metadata": {},
   "outputs": [
    {
     "data": {
      "text/html": [
       "\n",
       "<div id=\"altair-viz-d250975d64904b9da83cf9c53ac0c6c7\"></div>\n",
       "<script type=\"text/javascript\">\n",
       "  (function(spec, embedOpt){\n",
       "    let outputDiv = document.currentScript.previousElementSibling;\n",
       "    if (outputDiv.id !== \"altair-viz-d250975d64904b9da83cf9c53ac0c6c7\") {\n",
       "      outputDiv = document.getElementById(\"altair-viz-d250975d64904b9da83cf9c53ac0c6c7\");\n",
       "    }\n",
       "    const paths = {\n",
       "      \"vega\": \"https://cdn.jsdelivr.net/npm//vega@5?noext\",\n",
       "      \"vega-lib\": \"https://cdn.jsdelivr.net/npm//vega-lib?noext\",\n",
       "      \"vega-lite\": \"https://cdn.jsdelivr.net/npm//vega-lite@4.8.1?noext\",\n",
       "      \"vega-embed\": \"https://cdn.jsdelivr.net/npm//vega-embed@6?noext\",\n",
       "    };\n",
       "\n",
       "    function loadScript(lib) {\n",
       "      return new Promise(function(resolve, reject) {\n",
       "        var s = document.createElement('script');\n",
       "        s.src = paths[lib];\n",
       "        s.async = true;\n",
       "        s.onload = () => resolve(paths[lib]);\n",
       "        s.onerror = () => reject(`Error loading script: ${paths[lib]}`);\n",
       "        document.getElementsByTagName(\"head\")[0].appendChild(s);\n",
       "      });\n",
       "    }\n",
       "\n",
       "    function showError(err) {\n",
       "      outputDiv.innerHTML = `<div class=\"error\" style=\"color:red;\">${err}</div>`;\n",
       "      throw err;\n",
       "    }\n",
       "\n",
       "    function displayChart(vegaEmbed) {\n",
       "      vegaEmbed(outputDiv, spec, embedOpt)\n",
       "        .catch(err => showError(`Javascript Error: ${err.message}<br>This usually means there's a typo in your chart specification. See the javascript console for the full traceback.`));\n",
       "    }\n",
       "\n",
       "    if(typeof define === \"function\" && define.amd) {\n",
       "      requirejs.config({paths});\n",
       "      require([\"vega-embed\"], displayChart, err => showError(`Error loading script: ${err.message}`));\n",
       "    } else if (typeof vegaEmbed === \"function\") {\n",
       "      displayChart(vegaEmbed);\n",
       "    } else {\n",
       "      loadScript(\"vega\")\n",
       "        .then(() => loadScript(\"vega-lite\"))\n",
       "        .then(() => loadScript(\"vega-embed\"))\n",
       "        .catch(showError)\n",
       "        .then(() => displayChart(vegaEmbed));\n",
       "    }\n",
       "  })({\"config\": {\"background\": \"white\", \"view\": {\"continuousWidth\": 400, \"continuousHeight\": 300}}, \"vconcat\": [{\"data\": {\"url\": \"http://localhost:20755/31fd59e716e6d10483a4f8d45814bade.json\"}, \"mark\": \"line\", \"encoding\": {\"x\": {\"type\": \"temporal\", \"field\": \"fecha\"}, \"y\": {\"type\": \"quantitative\", \"aggregate\": \"sum\", \"field\": \"casos_confirmados\", \"title\": \"Casos confirmados\"}}, \"title\": \"Confirmados v/s Fecha\"}, {\"data\": {\"url\": \"http://localhost:20755/9f881b97cd5c3fe7111de3f7ba3da1c3.json\"}, \"mark\": \"line\", \"encoding\": {\"x\": {\"type\": \"temporal\", \"field\": \"fecha\"}, \"y\": {\"type\": \"quantitative\", \"aggregate\": \"sum\", \"field\": \"fallecidos\", \"title\": \"Fallecidos\"}}, \"title\": \"Fallecidos v/s Fecha\"}, {\"data\": {\"url\": \"http://localhost:20755/f12b5e448b2a09f8991219880d955c60.json\"}, \"mark\": \"line\", \"encoding\": {\"x\": {\"type\": \"temporal\", \"field\": \"fecha\"}, \"y\": {\"type\": \"quantitative\", \"aggregate\": \"sum\", \"field\": \"casos_activos\", \"title\": \"Casos activos\"}}, \"title\": \"Activos v/s Fecha\"}], \"$schema\": \"https://vega.github.io/schema/vega-lite/v4.8.1.json\"}, {\"mode\": \"vega-lite\"});\n",
       "</script>"
      ],
      "text/plain": [
       "alt.VConcatChart(...)"
      ]
     },
     "execution_count": 14,
     "metadata": {},
     "output_type": "execute_result"
    }
   ],
   "source": [
    "conf_graph = alt.Chart(conf).mark_line().encode(\n",
    "    x=\"fecha\",\n",
    "    y=alt.Y(\"sum(casos_confirmados)\", title=\"Casos confirmados\")\n",
    ").properties(title=\"Confirmados v/s Fecha\")\n",
    "\n",
    "fall_graph = alt.Chart(fall).mark_line().encode(\n",
    "    x=\"fecha\",\n",
    "    y=alt.Y(\"sum(fallecidos)\", title=\"Fallecidos\")\n",
    ").properties(title=\"Fallecidos v/s Fecha\")\n",
    "\n",
    "acti_graph = alt.Chart(acti).mark_line().encode(\n",
    "    x=\"fecha\",\n",
    "    y=alt.Y(\"sum(casos_activos)\", title=\"Casos activos\")\n",
    ").properties(title=\"Activos v/s Fecha\")\n",
    "\n",
    "conf_graph & fall_graph & acti_graph"
   ]
  },
  {
   "cell_type": "markdown",
   "metadata": {},
   "source": [
    "**Comentarios:** Según los gráficos, tanto los fallecidos como los confirmados están siguiendo un comportamiento lineal. Lo que es bueno, pues a inicios tenía un comportamiento exponencial. Y por otro lado los casos activos se están estancando en un número relativamente bajo, lo que implicaría que los centros de salud, muy probablemente, no se saturarán en el corto plazo. (Al menos mientras esta tendencia no suba)"
   ]
  },
  {
   "cell_type": "markdown",
   "metadata": {},
   "source": [
    "## Ejercicio 5\n",
    "\n",
    "(10 puntos)\n",
    "\n",
    "Comparar la tasa de incidencia entre las regiones a lo largo del tiempo."
   ]
  },
  {
   "cell_type": "code",
   "execution_count": 15,
   "metadata": {},
   "outputs": [
    {
     "data": {
      "text/html": [
       "\n",
       "<div id=\"altair-viz-0e42e1de03e242cc96cccb86448e25b9\"></div>\n",
       "<script type=\"text/javascript\">\n",
       "  (function(spec, embedOpt){\n",
       "    let outputDiv = document.currentScript.previousElementSibling;\n",
       "    if (outputDiv.id !== \"altair-viz-0e42e1de03e242cc96cccb86448e25b9\") {\n",
       "      outputDiv = document.getElementById(\"altair-viz-0e42e1de03e242cc96cccb86448e25b9\");\n",
       "    }\n",
       "    const paths = {\n",
       "      \"vega\": \"https://cdn.jsdelivr.net/npm//vega@5?noext\",\n",
       "      \"vega-lib\": \"https://cdn.jsdelivr.net/npm//vega-lib?noext\",\n",
       "      \"vega-lite\": \"https://cdn.jsdelivr.net/npm//vega-lite@4.8.1?noext\",\n",
       "      \"vega-embed\": \"https://cdn.jsdelivr.net/npm//vega-embed@6?noext\",\n",
       "    };\n",
       "\n",
       "    function loadScript(lib) {\n",
       "      return new Promise(function(resolve, reject) {\n",
       "        var s = document.createElement('script');\n",
       "        s.src = paths[lib];\n",
       "        s.async = true;\n",
       "        s.onload = () => resolve(paths[lib]);\n",
       "        s.onerror = () => reject(`Error loading script: ${paths[lib]}`);\n",
       "        document.getElementsByTagName(\"head\")[0].appendChild(s);\n",
       "      });\n",
       "    }\n",
       "\n",
       "    function showError(err) {\n",
       "      outputDiv.innerHTML = `<div class=\"error\" style=\"color:red;\">${err}</div>`;\n",
       "      throw err;\n",
       "    }\n",
       "\n",
       "    function displayChart(vegaEmbed) {\n",
       "      vegaEmbed(outputDiv, spec, embedOpt)\n",
       "        .catch(err => showError(`Javascript Error: ${err.message}<br>This usually means there's a typo in your chart specification. See the javascript console for the full traceback.`));\n",
       "    }\n",
       "\n",
       "    if(typeof define === \"function\" && define.amd) {\n",
       "      requirejs.config({paths});\n",
       "      require([\"vega-embed\"], displayChart, err => showError(`Error loading script: ${err.message}`));\n",
       "    } else if (typeof vegaEmbed === \"function\") {\n",
       "      displayChart(vegaEmbed);\n",
       "    } else {\n",
       "      loadScript(\"vega\")\n",
       "        .then(() => loadScript(\"vega-lite\"))\n",
       "        .then(() => loadScript(\"vega-embed\"))\n",
       "        .catch(showError)\n",
       "        .then(() => displayChart(vegaEmbed));\n",
       "    }\n",
       "  })({\"config\": {\"background\": \"white\", \"view\": {\"continuousWidth\": 400, \"continuousHeight\": 300}}, \"data\": {\"url\": \"http://localhost:20755/61d8c60abdc0620d659a5534647e5115.json\"}, \"mark\": \"rect\", \"encoding\": {\"color\": {\"type\": \"quantitative\", \"condition\": {\"value\": \"black\", \"selection\": \"selector002\"}, \"field\": \"tasa\", \"scale\": {\"scheme\": \"reds\"}, \"title\": \"Tasa\"}, \"tooltip\": [{\"type\": \"quantitative\", \"field\": \"tasa\"}, {\"type\": \"temporal\", \"field\": \"fecha\"}], \"x\": {\"type\": \"ordinal\", \"field\": \"fecha\", \"timeUnit\": \"monthdate\", \"title\": \"Fecha\"}, \"y\": {\"type\": \"ordinal\", \"field\": \"region\", \"title\": \"Region\"}}, \"selection\": {\"selector002\": {\"type\": \"single\", \"on\": \"mouseover\", \"nearest\": true}}, \"title\": \"Region v/s Fecha v/s tasa\", \"width\": 600, \"$schema\": \"https://vega.github.io/schema/vega-lite/v4.8.1.json\"}, {\"mode\": \"vega-lite\"});\n",
       "</script>"
      ],
      "text/plain": [
       "alt.Chart(...)"
      ]
     },
     "execution_count": 15,
     "metadata": {},
     "output_type": "execute_result"
    }
   ],
   "source": [
    "pob = (confirmados.\n",
    "        drop([\"tasa\", \"region_id\", \"provincia_id\", \"provincia\", \"comuna_id\", \"comuna\"], axis=1).\n",
    "       groupby([\"fecha\", \"region\"]).agg('sum'))\n",
    "pob.reset_index(inplace = True)\n",
    "pob[\"tasa\"] = 100000*pob[\"casos_confirmados\"]/pob[\"poblacion\"]\n",
    "\n",
    "single_nearest = alt.selection_single(on='mouseover', nearest=True)\n",
    "\n",
    "graph = alt.Chart(pob).mark_rect().encode(\n",
    "    x=alt.X(\"monthdate(fecha):O\", title=\"Fecha\"),\n",
    "    y=alt.Y(\"region:O\", title=\"Region\"),\n",
    "    color=alt.condition(single_nearest,\n",
    "                        alt.value('black'),\n",
    "                        alt.Color('tasa:Q', scale=alt.Scale(scheme='reds'),title=\"Tasa\")),\n",
    "    tooltip=['tasa:Q', 'fecha:T']\n",
    ").properties(width=600, title=\"Region v/s Fecha v/s tasa\").add_selection(\n",
    "    single_nearest\n",
    ")\n",
    "graph"
   ]
  },
  {
   "cell_type": "markdown",
   "metadata": {},
   "source": [
    "**Comentarios:** *Para visualizar correctamente el gráfico, es necesario pasar el cursor sobre el gráfico la primera vez.* La region de Magallanes es la más afectada, junto con la metropolitana. De este modo podemos saber a cuáles regiones deberíamos poner mayor atención a la hora de tomar medidas de distanciamiento social."
   ]
  },
  {
   "cell_type": "markdown",
   "metadata": {},
   "source": [
    "## Ejercicio 6\n",
    "\n",
    "(10 puntos)\n",
    "\n",
    "¿Hay alguna conclusión que puedas obtener rápidamente al graficar un _scatter plot_ con los casos confirmados y tasa de incidencia de cada comuna para los días 13 de abril y 6 de noviembre del 2020? Además, colorea cada punto según la región a la que pertenece y considera si es útil en el gráfico que el tamaño sea proporcional a la población."
   ]
  },
  {
   "cell_type": "code",
   "execution_count": 16,
   "metadata": {},
   "outputs": [
    {
     "data": {
      "text/html": [
       "\n",
       "<div id=\"altair-viz-8f81d0ce2e394feb9ca19166fa80a568\"></div>\n",
       "<script type=\"text/javascript\">\n",
       "  (function(spec, embedOpt){\n",
       "    let outputDiv = document.currentScript.previousElementSibling;\n",
       "    if (outputDiv.id !== \"altair-viz-8f81d0ce2e394feb9ca19166fa80a568\") {\n",
       "      outputDiv = document.getElementById(\"altair-viz-8f81d0ce2e394feb9ca19166fa80a568\");\n",
       "    }\n",
       "    const paths = {\n",
       "      \"vega\": \"https://cdn.jsdelivr.net/npm//vega@5?noext\",\n",
       "      \"vega-lib\": \"https://cdn.jsdelivr.net/npm//vega-lib?noext\",\n",
       "      \"vega-lite\": \"https://cdn.jsdelivr.net/npm//vega-lite@4.8.1?noext\",\n",
       "      \"vega-embed\": \"https://cdn.jsdelivr.net/npm//vega-embed@6?noext\",\n",
       "    };\n",
       "\n",
       "    function loadScript(lib) {\n",
       "      return new Promise(function(resolve, reject) {\n",
       "        var s = document.createElement('script');\n",
       "        s.src = paths[lib];\n",
       "        s.async = true;\n",
       "        s.onload = () => resolve(paths[lib]);\n",
       "        s.onerror = () => reject(`Error loading script: ${paths[lib]}`);\n",
       "        document.getElementsByTagName(\"head\")[0].appendChild(s);\n",
       "      });\n",
       "    }\n",
       "\n",
       "    function showError(err) {\n",
       "      outputDiv.innerHTML = `<div class=\"error\" style=\"color:red;\">${err}</div>`;\n",
       "      throw err;\n",
       "    }\n",
       "\n",
       "    function displayChart(vegaEmbed) {\n",
       "      vegaEmbed(outputDiv, spec, embedOpt)\n",
       "        .catch(err => showError(`Javascript Error: ${err.message}<br>This usually means there's a typo in your chart specification. See the javascript console for the full traceback.`));\n",
       "    }\n",
       "\n",
       "    if(typeof define === \"function\" && define.amd) {\n",
       "      requirejs.config({paths});\n",
       "      require([\"vega-embed\"], displayChart, err => showError(`Error loading script: ${err.message}`));\n",
       "    } else if (typeof vegaEmbed === \"function\") {\n",
       "      displayChart(vegaEmbed);\n",
       "    } else {\n",
       "      loadScript(\"vega\")\n",
       "        .then(() => loadScript(\"vega-lite\"))\n",
       "        .then(() => loadScript(\"vega-embed\"))\n",
       "        .catch(showError)\n",
       "        .then(() => displayChart(vegaEmbed));\n",
       "    }\n",
       "  })({\"config\": {\"background\": \"white\", \"view\": {\"continuousWidth\": 400, \"continuousHeight\": 300}}, \"hconcat\": [{\"data\": {\"url\": \"http://localhost:20755/e6f2ed2346d6d42fdc09e87f39109f5f.json\"}, \"mark\": \"circle\", \"encoding\": {\"color\": {\"type\": \"nominal\", \"field\": \"region\"}, \"size\": {\"type\": \"quantitative\", \"field\": \"poblacion\"}, \"tooltip\": [{\"type\": \"nominal\", \"field\": \"region\"}], \"x\": {\"type\": \"quantitative\", \"field\": \"tasa\", \"title\": \"Tasa\"}, \"y\": {\"type\": \"quantitative\", \"field\": \"casos_confirmados\", \"title\": \"Casos confirmados\"}}, \"title\": \"Fecha 2020-04-13\"}, {\"data\": {\"url\": \"http://localhost:20755/6ee3a082cc3271eecf27f401809757c9.json\"}, \"mark\": \"circle\", \"encoding\": {\"color\": {\"type\": \"nominal\", \"field\": \"region\"}, \"size\": {\"type\": \"quantitative\", \"field\": \"poblacion\"}, \"tooltip\": [{\"type\": \"nominal\", \"field\": \"region\"}], \"x\": {\"type\": \"quantitative\", \"field\": \"tasa\", \"title\": \"Tasa\"}, \"y\": {\"type\": \"quantitative\", \"field\": \"casos_confirmados\", \"title\": \"Casos confirmados\"}}, \"title\": \"Fecha 2020-11-06\"}], \"$schema\": \"https://vega.github.io/schema/vega-lite/v4.8.1.json\"}, {\"mode\": \"vega-lite\"});\n",
       "</script>"
      ],
      "text/plain": [
       "alt.HConcatChart(...)"
      ]
     },
     "execution_count": 16,
     "metadata": {},
     "output_type": "execute_result"
    }
   ],
   "source": [
    "date_1 = date(year = 2020, month = 4, day = 13)\n",
    "date_2 = date(year = 2020, month = 11, day = 6)\n",
    "filt = confirmados.query(f\"fecha in ['{date_1}','{date_2}']\")\n",
    "filt = filt.drop(filt.columns.difference([\"casos_confirmados\", \"tasa\", \"region\", \"fecha\", \"poblacion\"]), 1)\n",
    "i = 0\n",
    "for date_ in [date_1, date_2]:\n",
    "    graph = alt.Chart(filt.query(f\"fecha == '{date_}'\")).mark_circle().encode(\n",
    "        x=alt.X('tasa', title = \"Tasa\"),\n",
    "        y=alt.Y('casos_confirmados', title = \"Casos confirmados\"),\n",
    "        color='region',\n",
    "        tooltip = [\"region\"],\n",
    "        size = \"poblacion\"\n",
    "    ).properties(title= f\"Fecha {date_}\")\n",
    "    if i == 0:\n",
    "        graphs = graph\n",
    "        i = 1\n",
    "    else:\n",
    "        graphs = graphs | graph\n",
    "graphs"
   ]
  },
  {
   "cell_type": "markdown",
   "metadata": {},
   "source": [
    "**Comentarios:** Es útil usar size por poblacion, pues nos damos cuenta que las comunas con mayor poblacion son las que están más lejos del origen."
   ]
  },
  {
   "cell_type": "markdown",
   "metadata": {},
   "source": [
    "## Ejercicio 7\n",
    "\n",
    "(10 puntos)\n",
    "\n",
    "1. Grafica la evolución de los casos activos de cada comuna en un solo gráfico. \n",
    "2. Grafica la evolución de los casos activos de cada comuna en gráficos separados por región.\n",
    "\n",
    "Entrega los pros y contras de cada uno de estos enfoques."
   ]
  },
  {
   "cell_type": "code",
   "execution_count": 17,
   "metadata": {},
   "outputs": [
    {
     "data": {
      "text/html": [
       "\n",
       "<div id=\"altair-viz-eb726deabae64f549e32fa27e85c9033\"></div>\n",
       "<script type=\"text/javascript\">\n",
       "  (function(spec, embedOpt){\n",
       "    let outputDiv = document.currentScript.previousElementSibling;\n",
       "    if (outputDiv.id !== \"altair-viz-eb726deabae64f549e32fa27e85c9033\") {\n",
       "      outputDiv = document.getElementById(\"altair-viz-eb726deabae64f549e32fa27e85c9033\");\n",
       "    }\n",
       "    const paths = {\n",
       "      \"vega\": \"https://cdn.jsdelivr.net/npm//vega@5?noext\",\n",
       "      \"vega-lib\": \"https://cdn.jsdelivr.net/npm//vega-lib?noext\",\n",
       "      \"vega-lite\": \"https://cdn.jsdelivr.net/npm//vega-lite@4.8.1?noext\",\n",
       "      \"vega-embed\": \"https://cdn.jsdelivr.net/npm//vega-embed@6?noext\",\n",
       "    };\n",
       "\n",
       "    function loadScript(lib) {\n",
       "      return new Promise(function(resolve, reject) {\n",
       "        var s = document.createElement('script');\n",
       "        s.src = paths[lib];\n",
       "        s.async = true;\n",
       "        s.onload = () => resolve(paths[lib]);\n",
       "        s.onerror = () => reject(`Error loading script: ${paths[lib]}`);\n",
       "        document.getElementsByTagName(\"head\")[0].appendChild(s);\n",
       "      });\n",
       "    }\n",
       "\n",
       "    function showError(err) {\n",
       "      outputDiv.innerHTML = `<div class=\"error\" style=\"color:red;\">${err}</div>`;\n",
       "      throw err;\n",
       "    }\n",
       "\n",
       "    function displayChart(vegaEmbed) {\n",
       "      vegaEmbed(outputDiv, spec, embedOpt)\n",
       "        .catch(err => showError(`Javascript Error: ${err.message}<br>This usually means there's a typo in your chart specification. See the javascript console for the full traceback.`));\n",
       "    }\n",
       "\n",
       "    if(typeof define === \"function\" && define.amd) {\n",
       "      requirejs.config({paths});\n",
       "      require([\"vega-embed\"], displayChart, err => showError(`Error loading script: ${err.message}`));\n",
       "    } else if (typeof vegaEmbed === \"function\") {\n",
       "      displayChart(vegaEmbed);\n",
       "    } else {\n",
       "      loadScript(\"vega\")\n",
       "        .then(() => loadScript(\"vega-lite\"))\n",
       "        .then(() => loadScript(\"vega-embed\"))\n",
       "        .catch(showError)\n",
       "        .then(() => displayChart(vegaEmbed));\n",
       "    }\n",
       "  })({\"config\": {\"background\": \"white\", \"view\": {\"continuousWidth\": 400, \"continuousHeight\": 300}}, \"data\": {\"url\": \"http://localhost:20755/7fed4f7f4c71da24acf3aaa3a2399822.json\"}, \"mark\": \"line\", \"encoding\": {\"color\": {\"type\": \"nominal\", \"field\": \"comuna\"}, \"x\": {\"type\": \"temporal\", \"field\": \"fecha\"}, \"y\": {\"type\": \"quantitative\", \"field\": \"casos_activos\"}}, \"$schema\": \"https://vega.github.io/schema/vega-lite/v4.8.1.json\"}, {\"mode\": \"vega-lite\"});\n",
       "</script>"
      ],
      "text/plain": [
       "alt.Chart(...)"
      ]
     },
     "execution_count": 17,
     "metadata": {},
     "output_type": "execute_result"
    }
   ],
   "source": [
    "actv = activos.drop(activos.columns.difference([\"casos_activos\", \"fecha\", \"comuna\"]), 1)\n",
    "alt.Chart(actv).mark_line().encode(\n",
    "    x=\"fecha:T\",\n",
    "    y=\"casos_activos\",\n",
    "    color=\"comuna\"\n",
    ")"
   ]
  },
  {
   "cell_type": "code",
   "execution_count": 18,
   "metadata": {},
   "outputs": [
    {
     "data": {
      "text/html": [
       "\n",
       "<div id=\"altair-viz-7016fe5c48a84d89a13dd88cbac4c485\"></div>\n",
       "<script type=\"text/javascript\">\n",
       "  (function(spec, embedOpt){\n",
       "    let outputDiv = document.currentScript.previousElementSibling;\n",
       "    if (outputDiv.id !== \"altair-viz-7016fe5c48a84d89a13dd88cbac4c485\") {\n",
       "      outputDiv = document.getElementById(\"altair-viz-7016fe5c48a84d89a13dd88cbac4c485\");\n",
       "    }\n",
       "    const paths = {\n",
       "      \"vega\": \"https://cdn.jsdelivr.net/npm//vega@5?noext\",\n",
       "      \"vega-lib\": \"https://cdn.jsdelivr.net/npm//vega-lib?noext\",\n",
       "      \"vega-lite\": \"https://cdn.jsdelivr.net/npm//vega-lite@4.8.1?noext\",\n",
       "      \"vega-embed\": \"https://cdn.jsdelivr.net/npm//vega-embed@6?noext\",\n",
       "    };\n",
       "\n",
       "    function loadScript(lib) {\n",
       "      return new Promise(function(resolve, reject) {\n",
       "        var s = document.createElement('script');\n",
       "        s.src = paths[lib];\n",
       "        s.async = true;\n",
       "        s.onload = () => resolve(paths[lib]);\n",
       "        s.onerror = () => reject(`Error loading script: ${paths[lib]}`);\n",
       "        document.getElementsByTagName(\"head\")[0].appendChild(s);\n",
       "      });\n",
       "    }\n",
       "\n",
       "    function showError(err) {\n",
       "      outputDiv.innerHTML = `<div class=\"error\" style=\"color:red;\">${err}</div>`;\n",
       "      throw err;\n",
       "    }\n",
       "\n",
       "    function displayChart(vegaEmbed) {\n",
       "      vegaEmbed(outputDiv, spec, embedOpt)\n",
       "        .catch(err => showError(`Javascript Error: ${err.message}<br>This usually means there's a typo in your chart specification. See the javascript console for the full traceback.`));\n",
       "    }\n",
       "\n",
       "    if(typeof define === \"function\" && define.amd) {\n",
       "      requirejs.config({paths});\n",
       "      require([\"vega-embed\"], displayChart, err => showError(`Error loading script: ${err.message}`));\n",
       "    } else if (typeof vegaEmbed === \"function\") {\n",
       "      displayChart(vegaEmbed);\n",
       "    } else {\n",
       "      loadScript(\"vega\")\n",
       "        .then(() => loadScript(\"vega-lite\"))\n",
       "        .then(() => loadScript(\"vega-embed\"))\n",
       "        .catch(showError)\n",
       "        .then(() => displayChart(vegaEmbed));\n",
       "    }\n",
       "  })({\"config\": {\"background\": \"white\", \"view\": {\"continuousWidth\": 400, \"continuousHeight\": 300}}, \"hconcat\": [{\"data\": {\"url\": \"http://localhost:20755/dde8711e5cd7d2837bd5530288e6c4ce.json\"}, \"mark\": \"line\", \"encoding\": {\"color\": {\"type\": \"nominal\", \"field\": \"comuna\"}, \"x\": {\"type\": \"temporal\", \"field\": \"fecha\"}, \"y\": {\"type\": \"quantitative\", \"field\": \"casos_activos\"}}, \"selection\": {\"selector003\": {\"type\": \"interval\", \"bind\": \"scales\", \"encodings\": [\"x\", \"y\"]}}, \"title\": \"Arica y Parinacota\", \"width\": 600}, {\"data\": {\"url\": \"http://localhost:20755/7e8560a933b3d473cc631a61b6107042.json\"}, \"mark\": \"line\", \"encoding\": {\"color\": {\"type\": \"nominal\", \"field\": \"comuna\"}, \"x\": {\"type\": \"temporal\", \"field\": \"fecha\"}, \"y\": {\"type\": \"quantitative\", \"field\": \"casos_activos\"}}, \"selection\": {\"selector004\": {\"type\": \"interval\", \"bind\": \"scales\", \"encodings\": [\"x\", \"y\"]}}, \"title\": \"Tarapaca\", \"width\": 600}, {\"data\": {\"url\": \"http://localhost:20755/e2a44cbc6d79a394842d4663e7f2c548.json\"}, \"mark\": \"line\", \"encoding\": {\"color\": {\"type\": \"nominal\", \"field\": \"comuna\"}, \"x\": {\"type\": \"temporal\", \"field\": \"fecha\"}, \"y\": {\"type\": \"quantitative\", \"field\": \"casos_activos\"}}, \"selection\": {\"selector005\": {\"type\": \"interval\", \"bind\": \"scales\", \"encodings\": [\"x\", \"y\"]}}, \"title\": \"Antofagasta\", \"width\": 600}, {\"data\": {\"url\": \"http://localhost:20755/9ac9f20209269180d396f85e995331de.json\"}, \"mark\": \"line\", \"encoding\": {\"color\": {\"type\": \"nominal\", \"field\": \"comuna\"}, \"x\": {\"type\": \"temporal\", \"field\": \"fecha\"}, \"y\": {\"type\": \"quantitative\", \"field\": \"casos_activos\"}}, \"selection\": {\"selector006\": {\"type\": \"interval\", \"bind\": \"scales\", \"encodings\": [\"x\", \"y\"]}}, \"title\": \"Atacama\", \"width\": 600}, {\"data\": {\"url\": \"http://localhost:20755/100440168ded6cf5b5728e2e4c5f047a.json\"}, \"mark\": \"line\", \"encoding\": {\"color\": {\"type\": \"nominal\", \"field\": \"comuna\"}, \"x\": {\"type\": \"temporal\", \"field\": \"fecha\"}, \"y\": {\"type\": \"quantitative\", \"field\": \"casos_activos\"}}, \"selection\": {\"selector007\": {\"type\": \"interval\", \"bind\": \"scales\", \"encodings\": [\"x\", \"y\"]}}, \"title\": \"Coquimbo\", \"width\": 600}, {\"data\": {\"url\": \"http://localhost:20755/2b1559a520de78b123492492b452eaa0.json\"}, \"mark\": \"line\", \"encoding\": {\"color\": {\"type\": \"nominal\", \"field\": \"comuna\"}, \"x\": {\"type\": \"temporal\", \"field\": \"fecha\"}, \"y\": {\"type\": \"quantitative\", \"field\": \"casos_activos\"}}, \"selection\": {\"selector008\": {\"type\": \"interval\", \"bind\": \"scales\", \"encodings\": [\"x\", \"y\"]}}, \"title\": \"Valparaiso\", \"width\": 600}, {\"data\": {\"url\": \"http://localhost:20755/388c3bf97b5e09695617fbf07e96a6ec.json\"}, \"mark\": \"line\", \"encoding\": {\"color\": {\"type\": \"nominal\", \"field\": \"comuna\"}, \"x\": {\"type\": \"temporal\", \"field\": \"fecha\"}, \"y\": {\"type\": \"quantitative\", \"field\": \"casos_activos\"}}, \"selection\": {\"selector009\": {\"type\": \"interval\", \"bind\": \"scales\", \"encodings\": [\"x\", \"y\"]}}, \"title\": \"Metropolitana\", \"width\": 600}, {\"data\": {\"url\": \"http://localhost:20755/37a5ba2784079471d1eeed17c92be58f.json\"}, \"mark\": \"line\", \"encoding\": {\"color\": {\"type\": \"nominal\", \"field\": \"comuna\"}, \"x\": {\"type\": \"temporal\", \"field\": \"fecha\"}, \"y\": {\"type\": \"quantitative\", \"field\": \"casos_activos\"}}, \"selection\": {\"selector010\": {\"type\": \"interval\", \"bind\": \"scales\", \"encodings\": [\"x\", \"y\"]}}, \"title\": \"Del Libertador General Bernardo O\\u2019Higgins\", \"width\": 600}, {\"data\": {\"url\": \"http://localhost:20755/78d819d99d39c97fb848cdd71e2a635d.json\"}, \"mark\": \"line\", \"encoding\": {\"color\": {\"type\": \"nominal\", \"field\": \"comuna\"}, \"x\": {\"type\": \"temporal\", \"field\": \"fecha\"}, \"y\": {\"type\": \"quantitative\", \"field\": \"casos_activos\"}}, \"selection\": {\"selector011\": {\"type\": \"interval\", \"bind\": \"scales\", \"encodings\": [\"x\", \"y\"]}}, \"title\": \"Maule\", \"width\": 600}, {\"data\": {\"url\": \"http://localhost:20755/3a466fb29061d8a6f8b731124ce8602d.json\"}, \"mark\": \"line\", \"encoding\": {\"color\": {\"type\": \"nominal\", \"field\": \"comuna\"}, \"x\": {\"type\": \"temporal\", \"field\": \"fecha\"}, \"y\": {\"type\": \"quantitative\", \"field\": \"casos_activos\"}}, \"selection\": {\"selector012\": {\"type\": \"interval\", \"bind\": \"scales\", \"encodings\": [\"x\", \"y\"]}}, \"title\": \"Nuble\", \"width\": 600}, {\"data\": {\"url\": \"http://localhost:20755/88d04228e21a46306b7ee0ac3722ad06.json\"}, \"mark\": \"line\", \"encoding\": {\"color\": {\"type\": \"nominal\", \"field\": \"comuna\"}, \"x\": {\"type\": \"temporal\", \"field\": \"fecha\"}, \"y\": {\"type\": \"quantitative\", \"field\": \"casos_activos\"}}, \"selection\": {\"selector013\": {\"type\": \"interval\", \"bind\": \"scales\", \"encodings\": [\"x\", \"y\"]}}, \"title\": \"Biobio\", \"width\": 600}, {\"data\": {\"url\": \"http://localhost:20755/cca102d113789af302fe078172a948c8.json\"}, \"mark\": \"line\", \"encoding\": {\"color\": {\"type\": \"nominal\", \"field\": \"comuna\"}, \"x\": {\"type\": \"temporal\", \"field\": \"fecha\"}, \"y\": {\"type\": \"quantitative\", \"field\": \"casos_activos\"}}, \"selection\": {\"selector014\": {\"type\": \"interval\", \"bind\": \"scales\", \"encodings\": [\"x\", \"y\"]}}, \"title\": \"La Araucania\", \"width\": 600}, {\"data\": {\"url\": \"http://localhost:20755/f76c0a59f65330673d159089ed008532.json\"}, \"mark\": \"line\", \"encoding\": {\"color\": {\"type\": \"nominal\", \"field\": \"comuna\"}, \"x\": {\"type\": \"temporal\", \"field\": \"fecha\"}, \"y\": {\"type\": \"quantitative\", \"field\": \"casos_activos\"}}, \"selection\": {\"selector015\": {\"type\": \"interval\", \"bind\": \"scales\", \"encodings\": [\"x\", \"y\"]}}, \"title\": \"Los Rios\", \"width\": 600}, {\"data\": {\"url\": \"http://localhost:20755/6fc4d2467a8e6fae5bfcc13ff935884a.json\"}, \"mark\": \"line\", \"encoding\": {\"color\": {\"type\": \"nominal\", \"field\": \"comuna\"}, \"x\": {\"type\": \"temporal\", \"field\": \"fecha\"}, \"y\": {\"type\": \"quantitative\", \"field\": \"casos_activos\"}}, \"selection\": {\"selector016\": {\"type\": \"interval\", \"bind\": \"scales\", \"encodings\": [\"x\", \"y\"]}}, \"title\": \"Los Lagos\", \"width\": 600}, {\"data\": {\"url\": \"http://localhost:20755/949ccf6b620a0a6fdacc82aaa2bb3731.json\"}, \"mark\": \"line\", \"encoding\": {\"color\": {\"type\": \"nominal\", \"field\": \"comuna\"}, \"x\": {\"type\": \"temporal\", \"field\": \"fecha\"}, \"y\": {\"type\": \"quantitative\", \"field\": \"casos_activos\"}}, \"selection\": {\"selector017\": {\"type\": \"interval\", \"bind\": \"scales\", \"encodings\": [\"x\", \"y\"]}}, \"title\": \"Aysen\", \"width\": 600}, {\"data\": {\"url\": \"http://localhost:20755/f7582970f6bc1b0c55578133021a90b7.json\"}, \"mark\": \"line\", \"encoding\": {\"color\": {\"type\": \"nominal\", \"field\": \"comuna\"}, \"x\": {\"type\": \"temporal\", \"field\": \"fecha\"}, \"y\": {\"type\": \"quantitative\", \"field\": \"casos_activos\"}}, \"selection\": {\"selector018\": {\"type\": \"interval\", \"bind\": \"scales\", \"encodings\": [\"x\", \"y\"]}}, \"title\": \"Magallanes y la Antartica\", \"width\": 600}], \"$schema\": \"https://vega.github.io/schema/vega-lite/v4.8.1.json\"}, {\"mode\": \"vega-lite\"});\n",
       "</script>"
      ],
      "text/plain": [
       "alt.HConcatChart(...)"
      ]
     },
     "metadata": {},
     "output_type": "display_data"
    }
   ],
   "source": [
    "actv_reg = activos.drop(activos.columns.difference([\"casos_activos\", \"fecha\", \"comuna\", \"region\"]), 1)\n",
    "regiones = actv_reg[\"region\"].unique()\n",
    "i = 0\n",
    "for region in regiones:\n",
    "    aux = actv_reg.query(f\"region == '{region}'\")\n",
    "    graph = alt.Chart(aux).mark_line().encode(\n",
    "        x=\"fecha:T\",\n",
    "        y=\"casos_activos\",\n",
    "        color=\"comuna\").properties(width=600, title=f\"{region}\").interactive()\n",
    "    if i == 0:\n",
    "        graphs = graph\n",
    "        i = 1\n",
    "    else:\n",
    "        graphs = graphs | graph\n",
    "graphs.display()"
   ]
  },
  {
   "cell_type": "markdown",
   "metadata": {},
   "source": [
    "**Comentarios:**"
   ]
  },
  {
   "cell_type": "markdown",
   "metadata": {},
   "source": [
    "<ul>\n",
    "  <li>Primera gráfica:\n",
    "    <ul>\n",
    "      <li>Pros:\n",
    "          <ul>\n",
    "              <li>Se observan todos los datos al mismo tiempo.</li>\n",
    "              <li>Se puede obtener la comuna con mayor casos activos a simple vista.</li>\n",
    "          </ul>\n",
    "        </li>\n",
    "      <li>Contras:\n",
    "          <ul>\n",
    "              <li>No se pueden apreciar todos los datos, pues se solapan.</li>\n",
    "              <li>No se puede apreciar una tendencia.</li>\n",
    "              <li>Es dificilmente identificable cada comuna.</li>\n",
    "          </ul>\n",
    "        </li>\n",
    "    </ul>\n",
    "   </li>\n",
    "  <li>Segunda gráfica:\n",
    "    <ul>\n",
    "      <li>Pros:\n",
    "          <ul>\n",
    "              <li>Se puede apreciar cada comuna (casi siempre).</li>\n",
    "              <li>Se puede apreciar una tendencia entre comunas de una misma region.</li>\n",
    "              <li>Es más ordenado a la vista.</li>\n",
    "              <li>Cada comuna es facilmente identificable (casi siempre).</li>\n",
    "          </ul>\n",
    "        </li>\n",
    "      <li>Contras:\n",
    "          <ul>\n",
    "              <li>No se puede obtener la comuna con mayor casos activos a simple vista</li>\n",
    "              <li>Es difícil comparar entre gráficos.</li>\n",
    "          </ul>\n",
    "        </li>\n",
    "    </ul>\n",
    "   </li>\n",
    "</ul>"
   ]
  },
  {
   "cell_type": "markdown",
   "metadata": {},
   "source": [
    "## Ejercicio 8\n",
    "\n",
    "(10 puntos)\n",
    "\n",
    "Hacer un gráfico que permita comparar rápidamente entre regiones su promedio de casos activos , máximo de casos confirmados y fallecidos. Utiliza los valores reales y apoyarlos con colores.\n",
    "\n",
    "Se adjunta el diccionario `region_names` con tal de reemplazar los nombres de las regiones en los datos `fallecidos` para poder unir con los otros datos. "
   ]
  },
  {
   "cell_type": "code",
   "execution_count": 19,
   "metadata": {},
   "outputs": [],
   "source": [
    "region_names = {\n",
    "    \"Araucanía\": \"La Araucanía\",\n",
    "    \"Aysén\": \"Aysén del General Carlos Ibáñez del Campo\",\n",
    "    \"Magallanes\": \"Magallanes y de la Antártica Chilena\",\n",
    "    \"Metropolitana\": \"Metropolitana de Santiago\",\n",
    "    \"O’Higgins\": \"Libertador General Bernardo O'Higgins\",\n",
    "    \"Biobio\": \"Biobío\",\n",
    "    \"La Araucania\": \"La Araucanía\",\n",
    "    \"Del Libertador General Bernardo O’Higgins\": \"Libertador General Bernardo O'Higgins\",\n",
    "    \"Los Rios\": \"Los Ríos\",\n",
    "    \"Magallanes y la Antartica\": \"Magallanes y de la Antártica Chilena\",\n",
    "    \"Tarapaca\": \"Tarapacá\",\n",
    "    \"Valparaiso\": \"Valparaíso\",\n",
    "    \"Nuble\": \"Ñuble\",\n",
    "    \"Aysen\": \"Aysén del General Carlos Ibáñez del Campo\",\n",
    "}"
   ]
  },
  {
   "cell_type": "code",
   "execution_count": 20,
   "metadata": {},
   "outputs": [],
   "source": [
    "actv = (activos.\n",
    "        drop(activos.columns.difference([\"casos_activos\", \"region\"]), 1).\n",
    "        groupby(\"region\").\n",
    "        mean().\n",
    "        reset_index().\n",
    "        replace({\"region\": region_names}))\n",
    "conf = (confirmados.\n",
    "        drop(confirmados.columns.difference([\"casos_confirmados\", \"region\"]), 1).\n",
    "        groupby(\"region\").\n",
    "        max().\n",
    "        reset_index().\n",
    "        replace({\"region\": region_names}))\n",
    "fall = (fallecidos.\n",
    "        drop(\"fecha\", axis=1).\n",
    "        groupby(\"region\").\n",
    "        max().\n",
    "        reset_index().\n",
    "        drop(14).\n",
    "        reset_index().\n",
    "        replace({\"region\": region_names}))"
   ]
  },
  {
   "cell_type": "code",
   "execution_count": 33,
   "metadata": {},
   "outputs": [
    {
     "data": {
      "text/html": [
       "\n",
       "<div id=\"altair-viz-3dc5214c6bd543b4902622a1c27282f1\"></div>\n",
       "<script type=\"text/javascript\">\n",
       "  (function(spec, embedOpt){\n",
       "    let outputDiv = document.currentScript.previousElementSibling;\n",
       "    if (outputDiv.id !== \"altair-viz-3dc5214c6bd543b4902622a1c27282f1\") {\n",
       "      outputDiv = document.getElementById(\"altair-viz-3dc5214c6bd543b4902622a1c27282f1\");\n",
       "    }\n",
       "    const paths = {\n",
       "      \"vega\": \"https://cdn.jsdelivr.net/npm//vega@5?noext\",\n",
       "      \"vega-lib\": \"https://cdn.jsdelivr.net/npm//vega-lib?noext\",\n",
       "      \"vega-lite\": \"https://cdn.jsdelivr.net/npm//vega-lite@4.8.1?noext\",\n",
       "      \"vega-embed\": \"https://cdn.jsdelivr.net/npm//vega-embed@6?noext\",\n",
       "    };\n",
       "\n",
       "    function loadScript(lib) {\n",
       "      return new Promise(function(resolve, reject) {\n",
       "        var s = document.createElement('script');\n",
       "        s.src = paths[lib];\n",
       "        s.async = true;\n",
       "        s.onload = () => resolve(paths[lib]);\n",
       "        s.onerror = () => reject(`Error loading script: ${paths[lib]}`);\n",
       "        document.getElementsByTagName(\"head\")[0].appendChild(s);\n",
       "      });\n",
       "    }\n",
       "\n",
       "    function showError(err) {\n",
       "      outputDiv.innerHTML = `<div class=\"error\" style=\"color:red;\">${err}</div>`;\n",
       "      throw err;\n",
       "    }\n",
       "\n",
       "    function displayChart(vegaEmbed) {\n",
       "      vegaEmbed(outputDiv, spec, embedOpt)\n",
       "        .catch(err => showError(`Javascript Error: ${err.message}<br>This usually means there's a typo in your chart specification. See the javascript console for the full traceback.`));\n",
       "    }\n",
       "\n",
       "    if(typeof define === \"function\" && define.amd) {\n",
       "      requirejs.config({paths});\n",
       "      require([\"vega-embed\"], displayChart, err => showError(`Error loading script: ${err.message}`));\n",
       "    } else if (typeof vegaEmbed === \"function\") {\n",
       "      displayChart(vegaEmbed);\n",
       "    } else {\n",
       "      loadScript(\"vega\")\n",
       "        .then(() => loadScript(\"vega-lite\"))\n",
       "        .then(() => loadScript(\"vega-embed\"))\n",
       "        .catch(showError)\n",
       "        .then(() => displayChart(vegaEmbed));\n",
       "    }\n",
       "  })({\"config\": {\"background\": \"white\", \"view\": {\"continuousWidth\": 400, \"continuousHeight\": 300}}, \"data\": {\"url\": \"http://localhost:20755/34983c53682f9c71de5f7cef95c001ce.json\"}, \"facet\": {\"column\": {\"type\": \"nominal\", \"field\": \"region\"}}, \"spec\": {\"layer\": [{\"mark\": \"bar\", \"encoding\": {\"color\": {\"type\": \"nominal\", \"field\": \"tipo\"}, \"tooltip\": {\"type\": \"quantitative\", \"field\": \"valor\"}, \"x\": {\"type\": \"ordinal\", \"field\": \"tipo\"}, \"y\": {\"type\": \"quantitative\", \"field\": \"valor\"}}}, {\"mark\": {\"type\": \"text\", \"dx\": 0, \"dy\": -10}, \"encoding\": {\"color\": {\"type\": \"nominal\", \"field\": \"tipo\"}, \"text\": {\"type\": \"quantitative\", \"field\": \"valor\"}, \"tooltip\": {\"type\": \"quantitative\", \"field\": \"valor\"}, \"x\": {\"type\": \"ordinal\", \"field\": \"tipo\"}, \"y\": {\"type\": \"quantitative\", \"field\": \"valor\"}}}]}, \"$schema\": \"https://vega.github.io/schema/vega-lite/v4.8.1.json\"}, {\"mode\": \"vega-lite\"});\n",
       "</script>"
      ],
      "text/plain": [
       "alt.FacetChart(...)"
      ]
     },
     "execution_count": 33,
     "metadata": {},
     "output_type": "execute_result"
    }
   ],
   "source": [
    "df = actv.merge(conf).merge(fall).drop([\"index\"], axis=1)\n",
    "df = (df.melt(id_vars = [\"region\"],\n",
    "              value_vars = [\"casos_activos\", \"casos_confirmados\", \"fallecidos\"],\n",
    "              var_name = \"tipo\",\n",
    "              value_name = \"valor\"))\n",
    "\n",
    "df[\"valor\"] = round(df[\"valor\"], 1)\n",
    "\n",
    "bars = alt.Chart(df).mark_bar().encode(\n",
    "    x=\"tipo:O\",\n",
    "    y=\"valor:Q\",\n",
    "    color=\"tipo:N\",\n",
    "    tooltip=\"valor:Q\"\n",
    ")\n",
    "\n",
    "alt.layer(bars.mark_bar(),\n",
    "          bars.mark_text(dx=0, dy=-10).encode(text='valor')).facet(column='region')"
   ]
  },
  {
   "cell_type": "markdown",
   "metadata": {},
   "source": [
    "**Comentarios:** Se observa que la mayoría de las regiones tienen una amplia diferencia entre casos_confirmados y fallecidos. Salvo Santiago que concentra una una alta cantidad de fallecidos. Por lo que habría que investigar el porqué de tantos fallecimientos. Si es por una saturación de los centros de salud, o si es por el rango etáreo de los fallecidos u otros factores no considerados."
   ]
  },
  {
   "cell_type": "markdown",
   "metadata": {},
   "source": [
    "## Ejercicio 9\n",
    "\n",
    "\n",
    "En este ejercicio buscaremos realizar un mini-dashboard respecto al estado de los casos de COVID-19 en Chile, por lo tanto utilizaremos haremos uso de datos geográficos de manera operacional (es decir, no nos preocuparemos de proyecciones en mapas ni nada por el estilo), lo único es que debes instalar `geopandas` en tu ambiente virtual y no olvidar actualizarlo en tu `environment.yml` para luego subirlo a tu repositorio de GitHub.\n",
    "\n",
    "Con tu ambiente activo (`conda activate mat281`) basta con ejecutar `conda install -c conda-forge geopandas` para instalar `geopandas`."
   ]
  },
  {
   "cell_type": "code",
   "execution_count": 22,
   "metadata": {},
   "outputs": [],
   "source": [
    "import geopandas as gpd\n",
    "from pathlib import Path"
   ]
  },
  {
   "cell_type": "code",
   "execution_count": 23,
   "metadata": {},
   "outputs": [
    {
     "data": {
      "text/html": [
       "<div>\n",
       "<style scoped>\n",
       "    .dataframe tbody tr th:only-of-type {\n",
       "        vertical-align: middle;\n",
       "    }\n",
       "\n",
       "    .dataframe tbody tr th {\n",
       "        vertical-align: top;\n",
       "    }\n",
       "\n",
       "    .dataframe thead th {\n",
       "        text-align: right;\n",
       "    }\n",
       "</style>\n",
       "<table border=\"1\" class=\"dataframe\">\n",
       "  <thead>\n",
       "    <tr style=\"text-align: right;\">\n",
       "      <th></th>\n",
       "      <th>Region</th>\n",
       "      <th>objectid</th>\n",
       "      <th>cir_sena</th>\n",
       "      <th>codregion</th>\n",
       "      <th>area_km</th>\n",
       "      <th>st_area_sh</th>\n",
       "      <th>st_length_</th>\n",
       "      <th>geometry</th>\n",
       "    </tr>\n",
       "  </thead>\n",
       "  <tbody>\n",
       "    <tr>\n",
       "      <th>0</th>\n",
       "      <td>Región Metropolitana de Santiago</td>\n",
       "      <td>1092</td>\n",
       "      <td>7</td>\n",
       "      <td>13</td>\n",
       "      <td>15392.030737</td>\n",
       "      <td>2.225204e+10</td>\n",
       "      <td>1.064253e+06</td>\n",
       "      <td>POLYGON ((-7873736.745 -3885505.642, -7873695....</td>\n",
       "    </tr>\n",
       "    <tr>\n",
       "      <th>1</th>\n",
       "      <td>Región de Antofagasta</td>\n",
       "      <td>1086</td>\n",
       "      <td>3</td>\n",
       "      <td>2</td>\n",
       "      <td>126071.431981</td>\n",
       "      <td>1.508452e+11</td>\n",
       "      <td>2.516112e+06</td>\n",
       "      <td>MULTIPOLYGON (((-7874671.129 -2977676.850, -78...</td>\n",
       "    </tr>\n",
       "    <tr>\n",
       "      <th>2</th>\n",
       "      <td>Región de Arica y Parinacota</td>\n",
       "      <td>1084</td>\n",
       "      <td>1</td>\n",
       "      <td>15</td>\n",
       "      <td>16866.819844</td>\n",
       "      <td>1.886869e+10</td>\n",
       "      <td>7.505296e+05</td>\n",
       "      <td>POLYGON ((-7727277.278 -1997230.768, -7726464....</td>\n",
       "    </tr>\n",
       "    <tr>\n",
       "      <th>3</th>\n",
       "      <td>Región de Atacama</td>\n",
       "      <td>1089</td>\n",
       "      <td>4</td>\n",
       "      <td>3</td>\n",
       "      <td>75661.248635</td>\n",
       "      <td>9.643906e+10</td>\n",
       "      <td>2.401741e+06</td>\n",
       "      <td>MULTIPOLYGON (((-7900342.628 -3153340.296, -79...</td>\n",
       "    </tr>\n",
       "    <tr>\n",
       "      <th>4</th>\n",
       "      <td>Región de Aysén del Gral.Ibañez del Campo</td>\n",
       "      <td>1088</td>\n",
       "      <td>14</td>\n",
       "      <td>11</td>\n",
       "      <td>106703.377369</td>\n",
       "      <td>2.242743e+11</td>\n",
       "      <td>4.144481e+07</td>\n",
       "      <td>MULTIPOLYGON (((-8208500.834 -5733817.475, -82...</td>\n",
       "    </tr>\n",
       "  </tbody>\n",
       "</table>\n",
       "</div>"
      ],
      "text/plain": [
       "                                      Region  objectid  cir_sena  codregion  \\\n",
       "0           Región Metropolitana de Santiago      1092         7         13   \n",
       "1                      Región de Antofagasta      1086         3          2   \n",
       "2               Región de Arica y Parinacota      1084         1         15   \n",
       "3                          Región de Atacama      1089         4          3   \n",
       "4  Región de Aysén del Gral.Ibañez del Campo      1088        14         11   \n",
       "\n",
       "         area_km    st_area_sh    st_length_  \\\n",
       "0   15392.030737  2.225204e+10  1.064253e+06   \n",
       "1  126071.431981  1.508452e+11  2.516112e+06   \n",
       "2   16866.819844  1.886869e+10  7.505296e+05   \n",
       "3   75661.248635  9.643906e+10  2.401741e+06   \n",
       "4  106703.377369  2.242743e+11  4.144481e+07   \n",
       "\n",
       "                                            geometry  \n",
       "0  POLYGON ((-7873736.745 -3885505.642, -7873695....  \n",
       "1  MULTIPOLYGON (((-7874671.129 -2977676.850, -78...  \n",
       "2  POLYGON ((-7727277.278 -1997230.768, -7726464....  \n",
       "3  MULTIPOLYGON (((-7900342.628 -3153340.296, -79...  \n",
       "4  MULTIPOLYGON (((-8208500.834 -5733817.475, -82...  "
      ]
     },
     "execution_count": 23,
     "metadata": {},
     "output_type": "execute_result"
    }
   ],
   "source": [
    "shp_filepath = Path().resolve().parent / \"data\" / \"regiones_chile.shp\"\n",
    "regiones = gpd.read_file(shp_filepath)\n",
    "regiones.head()"
   ]
  },
  {
   "cell_type": "markdown",
   "metadata": {},
   "source": [
    "Lo único que tienes que saber es que un `GeoDataFrame` es idéntico a un `DataFrame` salvo que debe poseer una columna llamada `geometry` caracterice los elementros geométricos, que en este casos son polígonos con los límites de las regiones de Chile. \n",
    "\n",
    "Para graficar mapas en Altair se debe usar `mark_geoshape`, además, para no preocuparnos de las proyecciones si o si debes declarar lo siguiente que se muestra en la siguiente celda en las propiedades del gráfico. El resto es igual a cualquier otro gráfico de Altair."
   ]
  },
  {
   "cell_type": "code",
   "execution_count": 24,
   "metadata": {},
   "outputs": [
    {
     "data": {
      "text/html": [
       "\n",
       "<div id=\"altair-viz-af0b652996434981845be5a557672a6a\"></div>\n",
       "<script type=\"text/javascript\">\n",
       "  (function(spec, embedOpt){\n",
       "    let outputDiv = document.currentScript.previousElementSibling;\n",
       "    if (outputDiv.id !== \"altair-viz-af0b652996434981845be5a557672a6a\") {\n",
       "      outputDiv = document.getElementById(\"altair-viz-af0b652996434981845be5a557672a6a\");\n",
       "    }\n",
       "    const paths = {\n",
       "      \"vega\": \"https://cdn.jsdelivr.net/npm//vega@5?noext\",\n",
       "      \"vega-lib\": \"https://cdn.jsdelivr.net/npm//vega-lib?noext\",\n",
       "      \"vega-lite\": \"https://cdn.jsdelivr.net/npm//vega-lite@4.8.1?noext\",\n",
       "      \"vega-embed\": \"https://cdn.jsdelivr.net/npm//vega-embed@6?noext\",\n",
       "    };\n",
       "\n",
       "    function loadScript(lib) {\n",
       "      return new Promise(function(resolve, reject) {\n",
       "        var s = document.createElement('script');\n",
       "        s.src = paths[lib];\n",
       "        s.async = true;\n",
       "        s.onload = () => resolve(paths[lib]);\n",
       "        s.onerror = () => reject(`Error loading script: ${paths[lib]}`);\n",
       "        document.getElementsByTagName(\"head\")[0].appendChild(s);\n",
       "      });\n",
       "    }\n",
       "\n",
       "    function showError(err) {\n",
       "      outputDiv.innerHTML = `<div class=\"error\" style=\"color:red;\">${err}</div>`;\n",
       "      throw err;\n",
       "    }\n",
       "\n",
       "    function displayChart(vegaEmbed) {\n",
       "      vegaEmbed(outputDiv, spec, embedOpt)\n",
       "        .catch(err => showError(`Javascript Error: ${err.message}<br>This usually means there's a typo in your chart specification. See the javascript console for the full traceback.`));\n",
       "    }\n",
       "\n",
       "    if(typeof define === \"function\" && define.amd) {\n",
       "      requirejs.config({paths});\n",
       "      require([\"vega-embed\"], displayChart, err => showError(`Error loading script: ${err.message}`));\n",
       "    } else if (typeof vegaEmbed === \"function\") {\n",
       "      displayChart(vegaEmbed);\n",
       "    } else {\n",
       "      loadScript(\"vega\")\n",
       "        .then(() => loadScript(\"vega-lite\"))\n",
       "        .then(() => loadScript(\"vega-embed\"))\n",
       "        .catch(showError)\n",
       "        .then(() => displayChart(vegaEmbed));\n",
       "    }\n",
       "  })({\"config\": {\"background\": \"white\", \"view\": {\"continuousWidth\": 400, \"continuousHeight\": 300}}, \"data\": {\"url\": \"http://localhost:20755/cf0d87eb1cf197560a8abce327b00980.json\"}, \"mark\": \"geoshape\", \"encoding\": {}, \"height\": 600, \"projection\": {\"type\": \"identity\", \"reflectY\": true}, \"width\": 250, \"$schema\": \"https://vega.github.io/schema/vega-lite/v4.8.1.json\"}, {\"mode\": \"vega-lite\"});\n",
       "</script>"
      ],
      "text/plain": [
       "alt.Chart(...)"
      ]
     },
     "execution_count": 24,
     "metadata": {},
     "output_type": "execute_result"
    }
   ],
   "source": [
    "alt.Chart(regiones).mark_geoshape().encode(\n",
    ").properties(\n",
    "    projection={'type': 'identity', 'reflectY': True},\n",
    "    width=250,\n",
    "    height=600\n",
    ")"
   ]
  },
  {
   "cell_type": "markdown",
   "metadata": {},
   "source": [
    "### Ejercicio 9.1\n",
    "\n",
    "(10 puntos)\n",
    "\n",
    "Define el `DataFrame` con el nombre `casos_geo` tal que tenga las columnas\n",
    "\n",
    "* `region`\n",
    "* `codigo_region`\n",
    "* `fecha`\n",
    "* `poblacion`\n",
    "* `casos_confirmados`\n",
    "* `tasa`\n",
    "* `casos_activos`\n",
    "* `fallecidos`\n",
    "* `geometry`\n",
    "\n",
    "Ten mucho cuidado como unes los dataframes `confirmados`, `activos`, `fallecidos` y `regiones`. Idealmente utilizar el código de región, pero en caso que no se encuentren disponibles utilizar el nombre de la región (no olivdar utilizar el diccionario `region_names`)."
   ]
  },
  {
   "cell_type": "code",
   "execution_count": 25,
   "metadata": {},
   "outputs": [],
   "source": [
    "aux = confirmados.replace({\"region\": region_names}).drop([\"provincia_id\", \"provincia\", \"comuna_id\", \"region_id\",\"tasa\"], axis=1)\n",
    "aux = aux.groupby([\"region\", \"fecha\"]).sum().reset_index()\n",
    "aux[\"tasa\"] = 100000*aux[\"casos_confirmados\"]/aux[\"poblacion\"]\n",
    "aux = aux.drop(\"poblacion\", axis=1)\n",
    "geometry = {\"geometry\": []}\n",
    "aux\n",
    "casos_geo = (pd.merge(activos.replace({\"region\": region_names}).\n",
    "                              drop([\"codigo_comuna\", \"poblacion\"], axis=1).\n",
    "                              groupby([\"region\", \"codigo_region\",\"fecha\"]).\n",
    "                              sum().\n",
    "                              reset_index(),\n",
    "                      fallecidos.\n",
    "                              drop(fallecidos.query(\"region == 'Total'\").index).\n",
    "                              replace({\"region\": region_names}).\n",
    "                              reset_index().\n",
    "                              drop(\"index\", axis=1).\n",
    "                              groupby([\"region\",\"fecha\"]).\n",
    "                              sum().\n",
    "                              reset_index()).\n",
    "             merge(aux)\n",
    ")\n",
    "for code in list(casos_geo[\"codigo_region\"]):\n",
    "    geometry[\"geometry\"].append(regiones.query(f\"codregion == '{code}'\")[\"geometry\"].values[0])\n",
    "casos_geo[\"geometry\"] = pd.DataFrame(geometry)"
   ]
  },
  {
   "cell_type": "markdown",
   "metadata": {},
   "source": [
    "Ejecuta lo siguiente para convertir el DataFrame anterior en un GeoDataFrames"
   ]
  },
  {
   "cell_type": "code",
   "execution_count": 26,
   "metadata": {},
   "outputs": [],
   "source": [
    "casos_geo = casos_geo.pipe(lambda x: gpd.GeoDataFrame(x, geometry=\"geometry\"))"
   ]
  },
  {
   "cell_type": "markdown",
   "metadata": {},
   "source": [
    "### Ejercicio 9.2\n",
    "\n",
    "(5 puntos)\n",
    "\n",
    "Modifica la función `covid_chile_chart` tal que reciba una fecha y una columna. Luego, debe filtrar `casos_geo` con registros de la fecha seleccionada y graficar un mapa donde las regiones se colereen según la columna escogida. "
   ]
  },
  {
   "cell_type": "code",
   "execution_count": 27,
   "metadata": {},
   "outputs": [],
   "source": [
    "def covid_chile_chart(fecha, col):\n",
    "    \n",
    "    fecha = pd.to_datetime(fecha)\n",
    "    data = (casos_geo.\n",
    "            query(f\"fecha == '{fecha}'\").\n",
    "            drop(casos_geo.columns.difference([\"geometry\", col]), 1))\n",
    "    \n",
    "    \n",
    "    chart = alt.Chart(data).mark_geoshape().encode(\n",
    "        color=col\n",
    "    ).properties(\n",
    "        projection={'type': 'identity', 'reflectY': True},\n",
    "        width=150,\n",
    "        height=400\n",
    "    )\n",
    "    \n",
    "    chart.display()\n",
    "    return"
   ]
  },
  {
   "cell_type": "markdown",
   "metadata": {},
   "source": [
    "Prueba con lo siguiente"
   ]
  },
  {
   "cell_type": "code",
   "execution_count": 28,
   "metadata": {},
   "outputs": [
    {
     "data": {
      "text/html": [
       "\n",
       "<div id=\"altair-viz-90234e1e3ba246bd91d14862d1ff78b5\"></div>\n",
       "<script type=\"text/javascript\">\n",
       "  (function(spec, embedOpt){\n",
       "    let outputDiv = document.currentScript.previousElementSibling;\n",
       "    if (outputDiv.id !== \"altair-viz-90234e1e3ba246bd91d14862d1ff78b5\") {\n",
       "      outputDiv = document.getElementById(\"altair-viz-90234e1e3ba246bd91d14862d1ff78b5\");\n",
       "    }\n",
       "    const paths = {\n",
       "      \"vega\": \"https://cdn.jsdelivr.net/npm//vega@5?noext\",\n",
       "      \"vega-lib\": \"https://cdn.jsdelivr.net/npm//vega-lib?noext\",\n",
       "      \"vega-lite\": \"https://cdn.jsdelivr.net/npm//vega-lite@4.8.1?noext\",\n",
       "      \"vega-embed\": \"https://cdn.jsdelivr.net/npm//vega-embed@6?noext\",\n",
       "    };\n",
       "\n",
       "    function loadScript(lib) {\n",
       "      return new Promise(function(resolve, reject) {\n",
       "        var s = document.createElement('script');\n",
       "        s.src = paths[lib];\n",
       "        s.async = true;\n",
       "        s.onload = () => resolve(paths[lib]);\n",
       "        s.onerror = () => reject(`Error loading script: ${paths[lib]}`);\n",
       "        document.getElementsByTagName(\"head\")[0].appendChild(s);\n",
       "      });\n",
       "    }\n",
       "\n",
       "    function showError(err) {\n",
       "      outputDiv.innerHTML = `<div class=\"error\" style=\"color:red;\">${err}</div>`;\n",
       "      throw err;\n",
       "    }\n",
       "\n",
       "    function displayChart(vegaEmbed) {\n",
       "      vegaEmbed(outputDiv, spec, embedOpt)\n",
       "        .catch(err => showError(`Javascript Error: ${err.message}<br>This usually means there's a typo in your chart specification. See the javascript console for the full traceback.`));\n",
       "    }\n",
       "\n",
       "    if(typeof define === \"function\" && define.amd) {\n",
       "      requirejs.config({paths});\n",
       "      require([\"vega-embed\"], displayChart, err => showError(`Error loading script: ${err.message}`));\n",
       "    } else if (typeof vegaEmbed === \"function\") {\n",
       "      displayChart(vegaEmbed);\n",
       "    } else {\n",
       "      loadScript(\"vega\")\n",
       "        .then(() => loadScript(\"vega-lite\"))\n",
       "        .then(() => loadScript(\"vega-embed\"))\n",
       "        .catch(showError)\n",
       "        .then(() => displayChart(vegaEmbed));\n",
       "    }\n",
       "  })({\"config\": {\"background\": \"white\", \"view\": {\"continuousWidth\": 400, \"continuousHeight\": 300}}, \"data\": {\"url\": \"http://localhost:20755/cf236c506adf4617ea38c1fe6c6a4ada.json\"}, \"mark\": \"geoshape\", \"encoding\": {\"color\": {\"type\": \"quantitative\", \"field\": \"tasa\"}}, \"height\": 400, \"projection\": {\"type\": \"identity\", \"reflectY\": true}, \"width\": 150, \"$schema\": \"https://vega.github.io/schema/vega-lite/v4.8.1.json\"}, {\"mode\": \"vega-lite\"});\n",
       "</script>"
      ],
      "text/plain": [
       "alt.Chart(...)"
      ]
     },
     "metadata": {},
     "output_type": "display_data"
    }
   ],
   "source": [
    "fecha = \"2020-04-13\"\n",
    "col = \"tasa\"\n",
    "covid_chile_chart(fecha, col)"
   ]
  },
  {
   "cell_type": "markdown",
   "metadata": {},
   "source": [
    "### Ejercicio 9.3\n",
    "\n",
    "(5 puntos)\n",
    "\n",
    "Ahora utilizando `widgets` generaremos el dashboard interactivo. Define lo siguiente:\n",
    "\n",
    "* col_widget: Un `widgets.Dropdown` donde las opciones a seleccionar sean las columnas `poblacion`, `casos_confirmados`, `tasa`, `casos_activos` y `fallecidos`. Además, el argumento `description` debe ser `Columna`.\n",
    "* fecha_widget: Un `widgets.DatePicker` donde el argumento `description` sea `Fecha`.\n",
    "* Ambos widgets deben tener el argumento `continuous_update=False`"
   ]
  },
  {
   "cell_type": "code",
   "execution_count": 29,
   "metadata": {},
   "outputs": [],
   "source": [
    "import ipywidgets as widgets\n",
    "from ipywidgets import interactive, interact"
   ]
  },
  {
   "cell_type": "code",
   "execution_count": 30,
   "metadata": {},
   "outputs": [
    {
     "data": {
      "application/vnd.jupyter.widget-view+json": {
       "model_id": "832375a8c328411c92c1851048298134",
       "version_major": 2,
       "version_minor": 0
      },
      "text/plain": [
       "Dropdown(description='Columna', options=(('Poblacion', 'poblacion'), ('Casos confirmados', 'casos_confirmados'…"
      ]
     },
     "metadata": {},
     "output_type": "display_data"
    }
   ],
   "source": [
    "col_widget = widgets.Dropdown(options=[(\"Poblacion\", \"poblacion\"),\n",
    "                                       (\"Casos confirmados\", \"casos_confirmados\"),\n",
    "                                       (\"Tasa\", \"tasa\"),\n",
    "                                       (\"Casos activos\", \"casos_activos\"),\n",
    "                                       (\"Fallecidos\", \"fallecidos\")],\n",
    "                              description='Columna',\n",
    "                              continuous_update=False)\n",
    "col_widget"
   ]
  },
  {
   "cell_type": "code",
   "execution_count": 31,
   "metadata": {},
   "outputs": [
    {
     "data": {
      "application/vnd.jupyter.widget-view+json": {
       "model_id": "ca3d799e7ff44d659838593cc41dbf20",
       "version_major": 2,
       "version_minor": 0
      },
      "text/plain": [
       "DatePicker(value=None, description='Fecha')"
      ]
     },
     "metadata": {},
     "output_type": "display_data"
    }
   ],
   "source": [
    "fecha_widget = widgets.DatePicker(description=\"Fecha\", continuous_update=False)\n",
    "fecha_widget"
   ]
  },
  {
   "cell_type": "markdown",
   "metadata": {},
   "source": [
    "Finalmente, haciendo uso de `interactive`, la función `covid_chile_chart` y todos los widgets es posible crear un _dashboard_ interactivo con los datos de Covid-19.\n",
    "\n",
    "Respira profundo y explora tu creación!"
   ]
  },
  {
   "cell_type": "code",
   "execution_count": 32,
   "metadata": {},
   "outputs": [
    {
     "data": {
      "application/vnd.jupyter.widget-view+json": {
       "model_id": "0babe31d9fc6407f94872ea9b7fb8e7f",
       "version_major": 2,
       "version_minor": 0
      },
      "text/plain": [
       "interactive(children=(DatePicker(value=None, description='Fecha'), Dropdown(description='Columna', options=(('…"
      ]
     },
     "metadata": {},
     "output_type": "display_data"
    }
   ],
   "source": [
    "covid_dashboard = interactive(\n",
    "    covid_chile_chart,\n",
    "    fecha=fecha_widget,\n",
    "    col=col_widget\n",
    ")\n",
    "covid_dashboard"
   ]
  },
  {
   "cell_type": "markdown",
   "metadata": {},
   "source": [
    "**Comentarios:** Woow"
   ]
  }
 ],
 "metadata": {
  "kernelspec": {
   "display_name": "Python 3",
   "language": "python",
   "name": "python3"
  },
  "language_info": {
   "codemirror_mode": {
    "name": "ipython",
    "version": 3
   },
   "file_extension": ".py",
   "mimetype": "text/x-python",
   "name": "python",
   "nbconvert_exporter": "python",
   "pygments_lexer": "ipython3",
   "version": "3.7.8"
  }
 },
 "nbformat": 4,
 "nbformat_minor": 4
}
