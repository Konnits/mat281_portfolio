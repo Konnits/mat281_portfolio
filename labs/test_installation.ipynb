{
 "cells": [
  {
   "cell_type": "markdown",
   "metadata": {},
   "source": [
    "# Testea tu portafolio"
   ]
  },
  {
   "cell_type": "markdown",
   "metadata": {},
   "source": [
    "Ejecuta cada celda, no debería tener ningún error ni en tu entorno de trabajo personal (computador) ni en binder."
   ]
  },
  {
   "cell_type": "code",
   "execution_count": 1,
   "metadata": {},
   "outputs": [],
   "source": [
    "import sys\n",
    "import numpy as np\n",
    "import pandas as pd\n",
    "import sklearn\n",
    "import matplotlib\n",
    "import ipywidgets\n",
    "import altair as alt\n",
    "import scipy\n",
    "\n",
    "\n",
    "import matplotlib.pyplot as plt\n",
    "from ipywidgets import interact\n",
    "from ipywidgets.widgets import IntSlider, Dropdown\n",
    "plt.ion()"
   ]
  },
  {
   "cell_type": "code",
   "execution_count": 2,
   "metadata": {},
   "outputs": [
    {
     "name": "stdout",
     "output_type": "stream",
     "text": [
      "Python Version: 3.7.8 | packaged by conda-forge | (default, Jul 31 2020, 01:53:57) [MSC v.1916 64 bit (AMD64)]\n",
      "\n",
      " Packages:\n",
      "\n",
      " Numpy 1.19.1\n",
      " Pandas 1.1.1\n",
      " Scikit-Learn 0.22.2.post1\n",
      " Matplotlib 3.2.2\n",
      " IPyWidgets 7.5.1\n",
      " Altair 4.1.0\n",
      " Scipy 1.4.1\n"
     ]
    }
   ],
   "source": [
    "print(f\"Python Version: {sys.version}\")\n",
    "print(\"\\n Packages:\\n\")\n",
    "print(f\" Numpy {np.__version__}\")\n",
    "print(f\" Pandas {pd.__version__}\")\n",
    "print(f\" Scikit-Learn {sklearn.__version__}\")\n",
    "print(f\" Matplotlib {matplotlib.__version__}\")\n",
    "print(f\" IPyWidgets {ipywidgets.__version__}\")\n",
    "print(f\" Altair {alt.__version__}\")\n",
    "print(f\" Scipy {scipy.__version__}\")"
   ]
  },
  {
   "cell_type": "code",
   "execution_count": 3,
   "metadata": {},
   "outputs": [],
   "source": [
    "data = np.logspace(0, 2, 100)\n",
    "data = np.tile(data, [100, 1])\n",
    "data += np.random.randn(100, 100) * 50\n",
    "data += np.linspace(0, 1000, 100)[:, np.newaxis]"
   ]
  },
  {
   "cell_type": "code",
   "execution_count": 4,
   "metadata": {},
   "outputs": [
    {
     "data": {
      "image/png": "[encoded data removed]",
      "text/plain": [
       "<Figure size 432x288 with 1 Axes>"
      ]
     },
     "metadata": {
      "needs_background": "light"
     },
     "output_type": "display_data"
    }
   ],
   "source": [
    "cmaps = ['coolwarm', 'viridis', 'magma']\n",
    "def plot_data(ii, cmap):\n",
    "    fig, ax = plt.subplots()\n",
    "    cmap = plt.get_cmap(cmap)\n",
    "    color = cmap(ii / 100.)\n",
    "    ax.plot(data[ii], color=color)\n",
    "    ax.set_ylim([0, 1000])\n",
    "    plt.show()\n",
    "    \n",
    "p = interact(plot_data, ii=IntSlider(0, 0, 99), cmap=Dropdown(options=cmaps))"
   ]
  },
  {
   "cell_type": "code",
   "execution_count": null,
   "metadata": {},
   "outputs": [],
   "source": []
  },
  {
   "cell_type": "code",
   "execution_count": null,
   "metadata": {},
   "outputs": [],
   "source": []
  },
  {
   "cell_type": "code",
   "execution_count": null,
   "metadata": {},
   "outputs": [],
   "source": []
  }
 ],
 "metadata": {
  "kernelspec": {
   "display_name": "Python 3",
   "language": "python",
   "name": "python3"
  },
  "language_info": {
   "codemirror_mode": {
    "name": "ipython",
    "version": 3
   },
   "file_extension": ".py",
   "mimetype": "text/x-python",
   "name": "python",
   "nbconvert_exporter": "python",
   "pygments_lexer": "ipython3",
   "version": "3.7.8"
  }
 },
 "nbformat": 4,
 "nbformat_minor": 4
}
